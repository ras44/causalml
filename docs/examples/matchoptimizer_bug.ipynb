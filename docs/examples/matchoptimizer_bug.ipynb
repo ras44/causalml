{
 "cells": [
  {
   "cell_type": "markdown",
   "metadata": {},
   "source": [
    "# MatchOptimizer bug\n",
    "MatchOptimizer produces a matched dataframe with more treatment/control matches than in the source dataframe.\n"
   ]
  },
  {
   "cell_type": "code",
   "execution_count": 1,
   "metadata": {},
   "outputs": [],
   "source": [
    "# Note: Some of the content in this notebook is derived from work done by Mike Yung"
   ]
  },
  {
   "cell_type": "code",
   "execution_count": 2,
   "metadata": {},
   "outputs": [],
   "source": [
    "%load_ext autoreload\n",
    "%autoreload 2"
   ]
  },
  {
   "cell_type": "code",
   "execution_count": 3,
   "metadata": {},
   "outputs": [
    {
     "name": "stderr",
     "output_type": "stream",
     "text": [
      "IProgress not found. Please update jupyter and ipywidgets. See https://ipywidgets.readthedocs.io/en/stable/user_install.html\n",
      "Failed to import duecredit due to No module named 'duecredit'\n"
     ]
    }
   ],
   "source": [
    "import pandas as pd\n",
    "import numpy as np\n",
    "from matplotlib import pyplot as plt\n",
    "from sklearn.linear_model import LinearRegression\n",
    "from sklearn.model_selection import train_test_split\n",
    "import statsmodels.api as sm\n",
    "from xgboost import XGBRegressor\n",
    "import warnings\n",
    "\n",
    "from causalml.propensity import ElasticNetPropensityModel\n",
    "from causalml.match import NearestNeighborMatch, MatchOptimizer, create_table_one\n",
    "from causalml.inference.meta import BaseXRegressor, BaseDRRegressor\n",
    "from causalml.inference.iv import BaseDRIVRegressor\n",
    "from causalml.dataset import synthetic_data\n",
    "from causalml.metrics import *\n",
    "\n",
    "warnings.filterwarnings('ignore')\n",
    "plt.style.use('fivethirtyeight')\n",
    "\n",
    "%matplotlib inline"
   ]
  },
  {
   "cell_type": "markdown",
   "metadata": {},
   "source": [
    "## Synthetic Data Generation"
   ]
  },
  {
   "cell_type": "code",
   "execution_count": 4,
   "metadata": {},
   "outputs": [],
   "source": [
    "y, X, treatment, tau, b, e = synthetic_data(mode=1, n=10000, p=8, sigma=1.0)"
   ]
  },
  {
   "cell_type": "code",
   "execution_count": 5,
   "metadata": {},
   "outputs": [
    {
     "data": {
      "text/plain": [
       "array([2.09553956, 2.99234788, 2.0689079 , ..., 2.04699878, 3.07997556,\n",
       "       2.4361889 ])"
      ]
     },
     "execution_count": 5,
     "metadata": {},
     "output_type": "execute_result"
    }
   ],
   "source": [
    "y # outcome variable\n",
    "# X # independent variables\n",
    "# treatment # w, treatment flag\n",
    "# tau # individual treatment effect\n",
    "# b # expected outcome\n",
    "# e # treatment propensity"
   ]
  },
  {
   "cell_type": "markdown",
   "metadata": {},
   "source": [
    "# Create base DF"
   ]
  },
  {
   "cell_type": "code",
   "execution_count": 6,
   "metadata": {},
   "outputs": [],
   "source": [
    "TREATMENT_COL = 'W'\n",
    "PROPENSITY_COL = 'pihat'\n",
    "OUTCOME_COL = 'y'"
   ]
  },
  {
   "cell_type": "code",
   "execution_count": 7,
   "metadata": {},
   "outputs": [
    {
     "data": {
      "text/html": [
       "<div>\n",
       "<style scoped>\n",
       "    .dataframe tbody tr th:only-of-type {\n",
       "        vertical-align: middle;\n",
       "    }\n",
       "\n",
       "    .dataframe tbody tr th {\n",
       "        vertical-align: top;\n",
       "    }\n",
       "\n",
       "    .dataframe thead th {\n",
       "        text-align: right;\n",
       "    }\n",
       "</style>\n",
       "<table border=\"1\" class=\"dataframe\">\n",
       "  <thead>\n",
       "    <tr style=\"text-align: right;\">\n",
       "      <th></th>\n",
       "      <th>X0</th>\n",
       "      <th>X1</th>\n",
       "      <th>X2</th>\n",
       "      <th>X3</th>\n",
       "      <th>X4</th>\n",
       "      <th>X5</th>\n",
       "      <th>X6</th>\n",
       "      <th>X7</th>\n",
       "      <th>W</th>\n",
       "      <th>pihat</th>\n",
       "    </tr>\n",
       "  </thead>\n",
       "  <tbody>\n",
       "    <tr>\n",
       "      <th>0</th>\n",
       "      <td>0.492231</td>\n",
       "      <td>0.385142</td>\n",
       "      <td>0.872106</td>\n",
       "      <td>0.363288</td>\n",
       "      <td>0.743950</td>\n",
       "      <td>0.429233</td>\n",
       "      <td>0.665893</td>\n",
       "      <td>0.048766</td>\n",
       "      <td>0</td>\n",
       "      <td>0.560989</td>\n",
       "    </tr>\n",
       "    <tr>\n",
       "      <th>1</th>\n",
       "      <td>0.330137</td>\n",
       "      <td>0.987845</td>\n",
       "      <td>0.619175</td>\n",
       "      <td>0.402743</td>\n",
       "      <td>0.876637</td>\n",
       "      <td>0.386752</td>\n",
       "      <td>0.874801</td>\n",
       "      <td>0.528981</td>\n",
       "      <td>1</td>\n",
       "      <td>0.854481</td>\n",
       "    </tr>\n",
       "    <tr>\n",
       "      <th>2</th>\n",
       "      <td>0.898132</td>\n",
       "      <td>0.808227</td>\n",
       "      <td>0.195526</td>\n",
       "      <td>0.803269</td>\n",
       "      <td>0.210270</td>\n",
       "      <td>0.859991</td>\n",
       "      <td>0.899106</td>\n",
       "      <td>0.257176</td>\n",
       "      <td>1</td>\n",
       "      <td>0.758578</td>\n",
       "    </tr>\n",
       "    <tr>\n",
       "      <th>3</th>\n",
       "      <td>0.452949</td>\n",
       "      <td>0.940397</td>\n",
       "      <td>0.062331</td>\n",
       "      <td>0.749200</td>\n",
       "      <td>0.771855</td>\n",
       "      <td>0.667109</td>\n",
       "      <td>0.570781</td>\n",
       "      <td>0.605579</td>\n",
       "      <td>1</td>\n",
       "      <td>0.900000</td>\n",
       "    </tr>\n",
       "    <tr>\n",
       "      <th>4</th>\n",
       "      <td>0.524973</td>\n",
       "      <td>0.843261</td>\n",
       "      <td>0.057313</td>\n",
       "      <td>0.229413</td>\n",
       "      <td>0.135677</td>\n",
       "      <td>0.394654</td>\n",
       "      <td>0.536435</td>\n",
       "      <td>0.075396</td>\n",
       "      <td>1</td>\n",
       "      <td>0.900000</td>\n",
       "    </tr>\n",
       "    <tr>\n",
       "      <th>...</th>\n",
       "      <td>...</td>\n",
       "      <td>...</td>\n",
       "      <td>...</td>\n",
       "      <td>...</td>\n",
       "      <td>...</td>\n",
       "      <td>...</td>\n",
       "      <td>...</td>\n",
       "      <td>...</td>\n",
       "      <td>...</td>\n",
       "      <td>...</td>\n",
       "    </tr>\n",
       "    <tr>\n",
       "      <th>9995</th>\n",
       "      <td>0.138606</td>\n",
       "      <td>0.505599</td>\n",
       "      <td>0.669075</td>\n",
       "      <td>0.451669</td>\n",
       "      <td>0.058391</td>\n",
       "      <td>0.692365</td>\n",
       "      <td>0.333172</td>\n",
       "      <td>0.010052</td>\n",
       "      <td>0</td>\n",
       "      <td>0.218385</td>\n",
       "    </tr>\n",
       "    <tr>\n",
       "      <th>9996</th>\n",
       "      <td>0.119110</td>\n",
       "      <td>0.665001</td>\n",
       "      <td>0.878683</td>\n",
       "      <td>0.505314</td>\n",
       "      <td>0.567432</td>\n",
       "      <td>0.935550</td>\n",
       "      <td>0.215294</td>\n",
       "      <td>0.031734</td>\n",
       "      <td>0</td>\n",
       "      <td>0.246280</td>\n",
       "    </tr>\n",
       "    <tr>\n",
       "      <th>9997</th>\n",
       "      <td>0.522840</td>\n",
       "      <td>0.463454</td>\n",
       "      <td>0.862620</td>\n",
       "      <td>0.448679</td>\n",
       "      <td>0.262980</td>\n",
       "      <td>0.573547</td>\n",
       "      <td>0.871171</td>\n",
       "      <td>0.772075</td>\n",
       "      <td>1</td>\n",
       "      <td>0.689824</td>\n",
       "    </tr>\n",
       "    <tr>\n",
       "      <th>9998</th>\n",
       "      <td>0.631689</td>\n",
       "      <td>0.572063</td>\n",
       "      <td>0.324459</td>\n",
       "      <td>0.101342</td>\n",
       "      <td>0.541866</td>\n",
       "      <td>0.629863</td>\n",
       "      <td>0.712246</td>\n",
       "      <td>0.431014</td>\n",
       "      <td>1</td>\n",
       "      <td>0.900000</td>\n",
       "    </tr>\n",
       "    <tr>\n",
       "      <th>9999</th>\n",
       "      <td>0.637819</td>\n",
       "      <td>0.922298</td>\n",
       "      <td>0.066349</td>\n",
       "      <td>0.926598</td>\n",
       "      <td>0.296068</td>\n",
       "      <td>0.307408</td>\n",
       "      <td>0.571542</td>\n",
       "      <td>0.981676</td>\n",
       "      <td>1</td>\n",
       "      <td>0.900000</td>\n",
       "    </tr>\n",
       "  </tbody>\n",
       "</table>\n",
       "<p>10000 rows × 10 columns</p>\n",
       "</div>"
      ],
      "text/plain": [
       "            X0        X1        X2        X3        X4        X5        X6  \\\n",
       "0     0.492231  0.385142  0.872106  0.363288  0.743950  0.429233  0.665893   \n",
       "1     0.330137  0.987845  0.619175  0.402743  0.876637  0.386752  0.874801   \n",
       "2     0.898132  0.808227  0.195526  0.803269  0.210270  0.859991  0.899106   \n",
       "3     0.452949  0.940397  0.062331  0.749200  0.771855  0.667109  0.570781   \n",
       "4     0.524973  0.843261  0.057313  0.229413  0.135677  0.394654  0.536435   \n",
       "...        ...       ...       ...       ...       ...       ...       ...   \n",
       "9995  0.138606  0.505599  0.669075  0.451669  0.058391  0.692365  0.333172   \n",
       "9996  0.119110  0.665001  0.878683  0.505314  0.567432  0.935550  0.215294   \n",
       "9997  0.522840  0.463454  0.862620  0.448679  0.262980  0.573547  0.871171   \n",
       "9998  0.631689  0.572063  0.324459  0.101342  0.541866  0.629863  0.712246   \n",
       "9999  0.637819  0.922298  0.066349  0.926598  0.296068  0.307408  0.571542   \n",
       "\n",
       "            X7  W     pihat  \n",
       "0     0.048766  0  0.560989  \n",
       "1     0.528981  1  0.854481  \n",
       "2     0.257176  1  0.758578  \n",
       "3     0.605579  1  0.900000  \n",
       "4     0.075396  1  0.900000  \n",
       "...        ... ..       ...  \n",
       "9995  0.010052  0  0.218385  \n",
       "9996  0.031734  0  0.246280  \n",
       "9997  0.772075  1  0.689824  \n",
       "9998  0.431014  1  0.900000  \n",
       "9999  0.981676  1  0.900000  \n",
       "\n",
       "[10000 rows x 10 columns]"
      ]
     },
     "execution_count": 7,
     "metadata": {},
     "output_type": "execute_result"
    }
   ],
   "source": [
    "df = pd.DataFrame(X)\n",
    "df = df.add_prefix(\"X\")\n",
    "df[TREATMENT_COL] = treatment\n",
    "df[PROPENSITY_COL] = e\n",
    "df"
   ]
  },
  {
   "cell_type": "markdown",
   "metadata": {},
   "source": [
    "# Display balance pre/post weighting by inverse probability of treatment (IPTW)"
   ]
  },
  {
   "cell_type": "code",
   "execution_count": 8,
   "metadata": {},
   "outputs": [],
   "source": [
    "from causalml.metrics.visualize import *"
   ]
  },
  {
   "cell_type": "code",
   "execution_count": 9,
   "metadata": {},
   "outputs": [
    {
     "data": {
      "text/plain": [
       "['X0', 'X1', 'X2', 'X3', 'X4', 'X5', 'X6', 'X7']"
      ]
     },
     "execution_count": 9,
     "metadata": {},
     "output_type": "execute_result"
    }
   ],
   "source": [
    "covariates = [col for col in df if col.startswith('X')]\n",
    "covariates"
   ]
  },
  {
   "cell_type": "markdown",
   "metadata": {},
   "source": [
    "The `plot_ps_diagnostics` function illustrates pre/post weighting by inverse probability of treatment."
   ]
  },
  {
   "cell_type": "code",
   "execution_count": 10,
   "metadata": {},
   "outputs": [
    {
     "data": {
      "text/html": [
       "<div>\n",
       "<style scoped>\n",
       "    .dataframe tbody tr th:only-of-type {\n",
       "        vertical-align: middle;\n",
       "    }\n",
       "\n",
       "    .dataframe tbody tr th {\n",
       "        vertical-align: top;\n",
       "    }\n",
       "\n",
       "    .dataframe thead th {\n",
       "        text-align: right;\n",
       "    }\n",
       "</style>\n",
       "<table border=\"1\" class=\"dataframe\">\n",
       "  <thead>\n",
       "    <tr style=\"text-align: right;\">\n",
       "      <th></th>\n",
       "      <th>Control</th>\n",
       "      <th>Treatment</th>\n",
       "      <th>SMD</th>\n",
       "    </tr>\n",
       "    <tr>\n",
       "      <th>Variable</th>\n",
       "      <th></th>\n",
       "      <th></th>\n",
       "      <th></th>\n",
       "    </tr>\n",
       "  </thead>\n",
       "  <tbody>\n",
       "    <tr>\n",
       "      <th>n</th>\n",
       "      <td>4776</td>\n",
       "      <td>5224</td>\n",
       "      <td></td>\n",
       "    </tr>\n",
       "    <tr>\n",
       "      <th>X0</th>\n",
       "      <td>0.39 (0.29)</td>\n",
       "      <td>0.60 (0.25)</td>\n",
       "      <td>0.7756</td>\n",
       "    </tr>\n",
       "    <tr>\n",
       "      <th>X1</th>\n",
       "      <td>0.39 (0.29)</td>\n",
       "      <td>0.60 (0.25)</td>\n",
       "      <td>0.7656</td>\n",
       "    </tr>\n",
       "    <tr>\n",
       "      <th>X2</th>\n",
       "      <td>0.50 (0.29)</td>\n",
       "      <td>0.50 (0.29)</td>\n",
       "      <td>0.0138</td>\n",
       "    </tr>\n",
       "    <tr>\n",
       "      <th>X3</th>\n",
       "      <td>0.50 (0.29)</td>\n",
       "      <td>0.50 (0.29)</td>\n",
       "      <td>0.0002</td>\n",
       "    </tr>\n",
       "    <tr>\n",
       "      <th>X4</th>\n",
       "      <td>0.49 (0.29)</td>\n",
       "      <td>0.50 (0.29)</td>\n",
       "      <td>0.0384</td>\n",
       "    </tr>\n",
       "    <tr>\n",
       "      <th>X5</th>\n",
       "      <td>0.50 (0.29)</td>\n",
       "      <td>0.50 (0.29)</td>\n",
       "      <td>-0.0101</td>\n",
       "    </tr>\n",
       "    <tr>\n",
       "      <th>X6</th>\n",
       "      <td>0.50 (0.29)</td>\n",
       "      <td>0.51 (0.29)</td>\n",
       "      <td>0.009</td>\n",
       "    </tr>\n",
       "    <tr>\n",
       "      <th>X7</th>\n",
       "      <td>0.50 (0.29)</td>\n",
       "      <td>0.50 (0.29)</td>\n",
       "      <td>-0.0026</td>\n",
       "    </tr>\n",
       "  </tbody>\n",
       "</table>\n",
       "</div>"
      ],
      "text/plain": [
       "              Control    Treatment     SMD\n",
       "Variable                                  \n",
       "n                4776         5224        \n",
       "X0        0.39 (0.29)  0.60 (0.25)  0.7756\n",
       "X1        0.39 (0.29)  0.60 (0.25)  0.7656\n",
       "X2        0.50 (0.29)  0.50 (0.29)  0.0138\n",
       "X3        0.50 (0.29)  0.50 (0.29)  0.0002\n",
       "X4        0.49 (0.29)  0.50 (0.29)  0.0384\n",
       "X5        0.50 (0.29)  0.50 (0.29) -0.0101\n",
       "X6        0.50 (0.29)  0.51 (0.29)   0.009\n",
       "X7        0.50 (0.29)  0.50 (0.29) -0.0026"
      ]
     },
     "execution_count": 10,
     "metadata": {},
     "output_type": "execute_result"
    }
   ],
   "source": [
    "create_table_one(data=df, treatment_col=TREATMENT_COL, features=covariates)"
   ]
  },
  {
   "cell_type": "markdown",
   "metadata": {},
   "source": [
    "We can see that for this synthetic data, the X0 and X1 variables are obviously not balanced.  We can also verify this by looking at the histograms."
   ]
  },
  {
   "cell_type": "code",
   "execution_count": 11,
   "metadata": {},
   "outputs": [
    {
     "data": {
      "image/png": "[encoded data removed]",
      "text/plain": [
       "<Figure size 640x480 with 1 Axes>"
      ]
     },
     "metadata": {},
     "output_type": "display_data"
    }
   ],
   "source": [
    "_ = df.groupby(TREATMENT_COL).apply(lambda x: plt.hist(x['X0'], alpha=0.3, bins=30))"
   ]
  },
  {
   "cell_type": "code",
   "execution_count": 12,
   "metadata": {
    "scrolled": true
   },
   "outputs": [
    {
     "data": {
      "image/png": "[encoded data removed]",
      "text/plain": [
       "<Figure size 640x480 with 1 Axes>"
      ]
     },
     "metadata": {},
     "output_type": "display_data"
    }
   ],
   "source": [
    "_ = df.groupby(TREATMENT_COL).apply(lambda x: plt.hist(x['X1'], alpha=0.3, bins=30))"
   ]
  },
  {
   "cell_type": "markdown",
   "metadata": {},
   "source": [
    "From `plot_ps_diagnostics`, `create_table_one`, and via the above histograms, we see that X0 and X1 are clearly unbalanced.\n",
    "\n",
    "Note that `plot_ps_diagnostics` function shows that we can improve balance through IPTW.  However, we will illustrate below how using matching can also improve balance independent of IPTW."
   ]
  },
  {
   "cell_type": "markdown",
   "metadata": {},
   "source": [
    "# Matching"
   ]
  },
  {
   "cell_type": "markdown",
   "metadata": {},
   "source": [
    "Now let's apply matching to see if we can reduce the SMDs."
   ]
  },
  {
   "cell_type": "markdown",
   "metadata": {},
   "source": [
    "The `NearestNeighborMatch` class expects a Pandas DataFrame when `match()` is called, so first we package the existing features data `X` into a dataframe. "
   ]
  },
  {
   "cell_type": "markdown",
   "metadata": {},
   "source": [
    "Next, we instantiate `NearestNeighborMatch` and define `score_cols` to specify the matcher to match on just the propensity variable."
   ]
  },
  {
   "cell_type": "code",
   "execution_count": 13,
   "metadata": {},
   "outputs": [
    {
     "data": {
      "text/html": [
       "<div>\n",
       "<style scoped>\n",
       "    .dataframe tbody tr th:only-of-type {\n",
       "        vertical-align: middle;\n",
       "    }\n",
       "\n",
       "    .dataframe tbody tr th {\n",
       "        vertical-align: top;\n",
       "    }\n",
       "\n",
       "    .dataframe thead th {\n",
       "        text-align: right;\n",
       "    }\n",
       "</style>\n",
       "<table border=\"1\" class=\"dataframe\">\n",
       "  <thead>\n",
       "    <tr style=\"text-align: right;\">\n",
       "      <th></th>\n",
       "      <th>Control</th>\n",
       "      <th>Treatment</th>\n",
       "      <th>SMD</th>\n",
       "    </tr>\n",
       "    <tr>\n",
       "      <th>Variable</th>\n",
       "      <th></th>\n",
       "      <th></th>\n",
       "      <th></th>\n",
       "    </tr>\n",
       "  </thead>\n",
       "  <tbody>\n",
       "    <tr>\n",
       "      <th>n</th>\n",
       "      <td>2209</td>\n",
       "      <td>2209</td>\n",
       "      <td></td>\n",
       "    </tr>\n",
       "    <tr>\n",
       "      <th>X0</th>\n",
       "      <td>0.49 (0.27)</td>\n",
       "      <td>0.50 (0.28)</td>\n",
       "      <td>0.0348</td>\n",
       "    </tr>\n",
       "    <tr>\n",
       "      <th>X1</th>\n",
       "      <td>0.50 (0.27)</td>\n",
       "      <td>0.50 (0.27)</td>\n",
       "      <td>-0.0109</td>\n",
       "    </tr>\n",
       "    <tr>\n",
       "      <th>X2</th>\n",
       "      <td>0.50 (0.29)</td>\n",
       "      <td>0.50 (0.29)</td>\n",
       "      <td>0.0057</td>\n",
       "    </tr>\n",
       "    <tr>\n",
       "      <th>X3</th>\n",
       "      <td>0.51 (0.29)</td>\n",
       "      <td>0.50 (0.29)</td>\n",
       "      <td>-0.0137</td>\n",
       "    </tr>\n",
       "    <tr>\n",
       "      <th>X4</th>\n",
       "      <td>0.50 (0.29)</td>\n",
       "      <td>0.51 (0.29)</td>\n",
       "      <td>0.022</td>\n",
       "    </tr>\n",
       "    <tr>\n",
       "      <th>X5</th>\n",
       "      <td>0.51 (0.30)</td>\n",
       "      <td>0.50 (0.29)</td>\n",
       "      <td>-0.0086</td>\n",
       "    </tr>\n",
       "    <tr>\n",
       "      <th>X6</th>\n",
       "      <td>0.50 (0.29)</td>\n",
       "      <td>0.50 (0.29)</td>\n",
       "      <td>-0.0019</td>\n",
       "    </tr>\n",
       "    <tr>\n",
       "      <th>X7</th>\n",
       "      <td>0.50 (0.29)</td>\n",
       "      <td>0.51 (0.29)</td>\n",
       "      <td>0.0195</td>\n",
       "    </tr>\n",
       "  </tbody>\n",
       "</table>\n",
       "</div>"
      ],
      "text/plain": [
       "              Control    Treatment     SMD\n",
       "Variable                                  \n",
       "n                2209         2209        \n",
       "X0        0.49 (0.27)  0.50 (0.28)  0.0348\n",
       "X1        0.50 (0.27)  0.50 (0.27) -0.0109\n",
       "X2        0.50 (0.29)  0.50 (0.29)  0.0057\n",
       "X3        0.51 (0.29)  0.50 (0.29) -0.0137\n",
       "X4        0.50 (0.29)  0.51 (0.29)   0.022\n",
       "X5        0.51 (0.30)  0.50 (0.29) -0.0086\n",
       "X6        0.50 (0.29)  0.50 (0.29) -0.0019\n",
       "X7        0.50 (0.29)  0.51 (0.29)  0.0195"
      ]
     },
     "execution_count": 13,
     "metadata": {},
     "output_type": "execute_result"
    }
   ],
   "source": [
    "matcher = NearestNeighborMatch()\n",
    "score_cols = [PROPENSITY_COL]\n",
    "df_matched = matcher.match(data=df, treatment_col=TREATMENT_COL, score_cols=score_cols)\n",
    "create_table_one(data=df_matched, treatment_col=TREATMENT_COL, features=covariates)"
   ]
  },
  {
   "cell_type": "markdown",
   "metadata": {},
   "source": [
    "`df_matched` contains the matched subset:"
   ]
  },
  {
   "cell_type": "code",
   "execution_count": 14,
   "metadata": {},
   "outputs": [
    {
     "data": {
      "text/plain": [
       "(4418, 10)"
      ]
     },
     "execution_count": 14,
     "metadata": {},
     "output_type": "execute_result"
    }
   ],
   "source": [
    "df_matched.shape"
   ]
  },
  {
   "cell_type": "markdown",
   "metadata": {},
   "source": [
    "SMD is the standardized mean difference of the variable between the two classes (Control and Treatment). An SMD value of < 0.1 is typically considered a good balance. Using the synthetically generated data, we achieve good balance for all covariates when matching on the propensity score alone. However, sometimes you may find that matching purely on the propensity variable does not achieve good balance for all the covariates you would like to control for."
   ]
  },
  {
   "cell_type": "markdown",
   "metadata": {},
   "source": [
    "### 4b. Match Optimization"
   ]
  },
  {
   "cell_type": "code",
   "execution_count": 15,
   "metadata": {},
   "outputs": [],
   "source": [
    "df['noise'] = df.apply(lambda x: np.random.randn()-0.3 if x[TREATMENT_COL]==1 else np.random.randn(), axis=1)"
   ]
  },
  {
   "cell_type": "code",
   "execution_count": 16,
   "metadata": {},
   "outputs": [
    {
     "data": {
      "image/png": "[encoded data removed]",
      "text/plain": [
       "<Figure size 640x480 with 1 Axes>"
      ]
     },
     "metadata": {},
     "output_type": "display_data"
    }
   ],
   "source": [
    "_ = df.groupby(TREATMENT_COL).apply(lambda x: plt.hist(x['noise'], alpha=0.3, bins=30))"
   ]
  },
  {
   "cell_type": "markdown",
   "metadata": {},
   "source": [
    "Let's redo the propensity scoring + matching process and take a look at the results."
   ]
  },
  {
   "cell_type": "code",
   "execution_count": 17,
   "metadata": {},
   "outputs": [
    {
     "data": {
      "text/html": [
       "<div>\n",
       "<style scoped>\n",
       "    .dataframe tbody tr th:only-of-type {\n",
       "        vertical-align: middle;\n",
       "    }\n",
       "\n",
       "    .dataframe tbody tr th {\n",
       "        vertical-align: top;\n",
       "    }\n",
       "\n",
       "    .dataframe thead th {\n",
       "        text-align: right;\n",
       "    }\n",
       "</style>\n",
       "<table border=\"1\" class=\"dataframe\">\n",
       "  <thead>\n",
       "    <tr style=\"text-align: right;\">\n",
       "      <th></th>\n",
       "      <th>Control</th>\n",
       "      <th>Treatment</th>\n",
       "      <th>SMD</th>\n",
       "    </tr>\n",
       "    <tr>\n",
       "      <th>Variable</th>\n",
       "      <th></th>\n",
       "      <th></th>\n",
       "      <th></th>\n",
       "    </tr>\n",
       "  </thead>\n",
       "  <tbody>\n",
       "    <tr>\n",
       "      <th>n</th>\n",
       "      <td>2211</td>\n",
       "      <td>2211</td>\n",
       "      <td></td>\n",
       "    </tr>\n",
       "    <tr>\n",
       "      <th>X0</th>\n",
       "      <td>0.49 (0.27)</td>\n",
       "      <td>0.50 (0.28)</td>\n",
       "      <td>0.0396</td>\n",
       "    </tr>\n",
       "    <tr>\n",
       "      <th>X1</th>\n",
       "      <td>0.50 (0.27)</td>\n",
       "      <td>0.50 (0.27)</td>\n",
       "      <td>-0.0034</td>\n",
       "    </tr>\n",
       "    <tr>\n",
       "      <th>X2</th>\n",
       "      <td>0.50 (0.29)</td>\n",
       "      <td>0.51 (0.29)</td>\n",
       "      <td>0.0071</td>\n",
       "    </tr>\n",
       "    <tr>\n",
       "      <th>X3</th>\n",
       "      <td>0.51 (0.29)</td>\n",
       "      <td>0.50 (0.29)</td>\n",
       "      <td>-0.0297</td>\n",
       "    </tr>\n",
       "    <tr>\n",
       "      <th>X4</th>\n",
       "      <td>0.50 (0.29)</td>\n",
       "      <td>0.50 (0.29)</td>\n",
       "      <td>0.0185</td>\n",
       "    </tr>\n",
       "    <tr>\n",
       "      <th>X5</th>\n",
       "      <td>0.51 (0.30)</td>\n",
       "      <td>0.50 (0.29)</td>\n",
       "      <td>-0.0151</td>\n",
       "    </tr>\n",
       "    <tr>\n",
       "      <th>X6</th>\n",
       "      <td>0.50 (0.29)</td>\n",
       "      <td>0.51 (0.29)</td>\n",
       "      <td>0.0321</td>\n",
       "    </tr>\n",
       "    <tr>\n",
       "      <th>X7</th>\n",
       "      <td>0.50 (0.29)</td>\n",
       "      <td>0.50 (0.29)</td>\n",
       "      <td>-0.0079</td>\n",
       "    </tr>\n",
       "    <tr>\n",
       "      <th>noise</th>\n",
       "      <td>-0.02 (1.02)</td>\n",
       "      <td>-0.34 (0.99)</td>\n",
       "      <td>-0.3142</td>\n",
       "    </tr>\n",
       "    <tr>\n",
       "      <th>pihat</th>\n",
       "      <td>0.50 (0.24)</td>\n",
       "      <td>0.51 (0.24)</td>\n",
       "      <td>0.0167</td>\n",
       "    </tr>\n",
       "  </tbody>\n",
       "</table>\n",
       "</div>"
      ],
      "text/plain": [
       "               Control     Treatment     SMD\n",
       "Variable                                    \n",
       "n                 2211          2211        \n",
       "X0         0.49 (0.27)   0.50 (0.28)  0.0396\n",
       "X1         0.50 (0.27)   0.50 (0.27) -0.0034\n",
       "X2         0.50 (0.29)   0.51 (0.29)  0.0071\n",
       "X3         0.51 (0.29)   0.50 (0.29) -0.0297\n",
       "X4         0.50 (0.29)   0.50 (0.29)  0.0185\n",
       "X5         0.51 (0.30)   0.50 (0.29) -0.0151\n",
       "X6         0.50 (0.29)   0.51 (0.29)  0.0321\n",
       "X7         0.50 (0.29)   0.50 (0.29) -0.0079\n",
       "noise     -0.02 (1.02)  -0.34 (0.99) -0.3142\n",
       "pihat      0.50 (0.24)   0.51 (0.24)  0.0167"
      ]
     },
     "execution_count": 17,
     "metadata": {},
     "output_type": "execute_result"
    }
   ],
   "source": [
    "p_model = ElasticNetPropensityModel()\n",
    "p_hat = p_model.fit_predict(X=np.hstack((X, df['noise'].values.reshape(-1,1))),\n",
    "                            y=treatment)\n",
    "\n",
    "df_matched = matcher.match(data=df, treatment_col=TREATMENT_COL, score_cols=score_cols)\n",
    "\n",
    "# define your own covariates to check matched balance\n",
    "covariates_to_check = [col for col in df_matched if col != TREATMENT_COL and col != OUTCOME_COL]\n",
    "\n",
    "create_table_one(data=df_matched, treatment_col=TREATMENT_COL, features=covariates_to_check)"
   ]
  },
  {
   "cell_type": "markdown",
   "metadata": {},
   "source": [
    "Now, the noise variable (which inherently has an imbalanced distribution between classes) does not achieve an acceptable SMD score. `causalml` has a built-in `MatchOptimizer` that will search for the best combinations of parameters to achieve good balance across all variables (refer to docs for more detail)."
   ]
  },
  {
   "cell_type": "code",
   "execution_count": 18,
   "metadata": {},
   "outputs": [],
   "source": [
    "if 'noise' not in covariates_to_check:\n",
    "    covariates_to_check.append('noise')\n",
    "\n",
    "opt = MatchOptimizer(treatment_col=TREATMENT_COL,\n",
    "                     ps_col=PROPENSITY_COL,\n",
    "                     matching_covariates=covariates_to_check,\n",
    "                     caliper_range=(0.01,1))\n",
    "df_matched = opt.search_best_match(df)"
   ]
  },
  {
   "cell_type": "code",
   "execution_count": 19,
   "metadata": {},
   "outputs": [
    {
     "data": {
      "text/html": [
       "<div>\n",
       "<style scoped>\n",
       "    .dataframe tbody tr th:only-of-type {\n",
       "        vertical-align: middle;\n",
       "    }\n",
       "\n",
       "    .dataframe tbody tr th {\n",
       "        vertical-align: top;\n",
       "    }\n",
       "\n",
       "    .dataframe thead th {\n",
       "        text-align: right;\n",
       "    }\n",
       "</style>\n",
       "<table border=\"1\" class=\"dataframe\">\n",
       "  <thead>\n",
       "    <tr style=\"text-align: right;\">\n",
       "      <th></th>\n",
       "      <th>Control</th>\n",
       "      <th>Treatment</th>\n",
       "      <th>SMD</th>\n",
       "    </tr>\n",
       "    <tr>\n",
       "      <th>Variable</th>\n",
       "      <th></th>\n",
       "      <th></th>\n",
       "      <th></th>\n",
       "    </tr>\n",
       "  </thead>\n",
       "  <tbody>\n",
       "    <tr>\n",
       "      <th>n</th>\n",
       "      <td>5224</td>\n",
       "      <td>5224</td>\n",
       "      <td></td>\n",
       "    </tr>\n",
       "    <tr>\n",
       "      <th>X0</th>\n",
       "      <td>0.59 (0.24)</td>\n",
       "      <td>0.60 (0.25)</td>\n",
       "      <td>0.0441</td>\n",
       "    </tr>\n",
       "    <tr>\n",
       "      <th>X1</th>\n",
       "      <td>0.60 (0.25)</td>\n",
       "      <td>0.60 (0.25)</td>\n",
       "      <td>-0.0046</td>\n",
       "    </tr>\n",
       "    <tr>\n",
       "      <th>X2</th>\n",
       "      <td>0.51 (0.28)</td>\n",
       "      <td>0.50 (0.29)</td>\n",
       "      <td>-0.0393</td>\n",
       "    </tr>\n",
       "    <tr>\n",
       "      <th>X3</th>\n",
       "      <td>0.50 (0.29)</td>\n",
       "      <td>0.50 (0.29)</td>\n",
       "      <td>0.0288</td>\n",
       "    </tr>\n",
       "    <tr>\n",
       "      <th>X4</th>\n",
       "      <td>0.49 (0.29)</td>\n",
       "      <td>0.50 (0.29)</td>\n",
       "      <td>0.0475</td>\n",
       "    </tr>\n",
       "    <tr>\n",
       "      <th>X5</th>\n",
       "      <td>0.51 (0.30)</td>\n",
       "      <td>0.50 (0.29)</td>\n",
       "      <td>-0.0284</td>\n",
       "    </tr>\n",
       "    <tr>\n",
       "      <th>X6</th>\n",
       "      <td>0.51 (0.28)</td>\n",
       "      <td>0.51 (0.29)</td>\n",
       "      <td>-0.0007</td>\n",
       "    </tr>\n",
       "    <tr>\n",
       "      <th>X7</th>\n",
       "      <td>0.50 (0.29)</td>\n",
       "      <td>0.50 (0.29)</td>\n",
       "      <td>-0.0095</td>\n",
       "    </tr>\n",
       "    <tr>\n",
       "      <th>noise</th>\n",
       "      <td>-0.30 (1.00)</td>\n",
       "      <td>-0.30 (1.02)</td>\n",
       "      <td>-0.0088</td>\n",
       "    </tr>\n",
       "    <tr>\n",
       "      <th>pihat</th>\n",
       "      <td>0.70 (0.24)</td>\n",
       "      <td>0.70 (0.24)</td>\n",
       "      <td>0.0088</td>\n",
       "    </tr>\n",
       "  </tbody>\n",
       "</table>\n",
       "</div>"
      ],
      "text/plain": [
       "               Control     Treatment     SMD\n",
       "Variable                                    \n",
       "n                 5224          5224        \n",
       "X0         0.59 (0.24)   0.60 (0.25)  0.0441\n",
       "X1         0.60 (0.25)   0.60 (0.25) -0.0046\n",
       "X2         0.51 (0.28)   0.50 (0.29) -0.0393\n",
       "X3         0.50 (0.29)   0.50 (0.29)  0.0288\n",
       "X4         0.49 (0.29)   0.50 (0.29)  0.0475\n",
       "X5         0.51 (0.30)   0.50 (0.29) -0.0284\n",
       "X6         0.51 (0.28)   0.51 (0.29) -0.0007\n",
       "X7         0.50 (0.29)   0.50 (0.29) -0.0095\n",
       "noise     -0.30 (1.00)  -0.30 (1.02) -0.0088\n",
       "pihat      0.70 (0.24)   0.70 (0.24)  0.0088"
      ]
     },
     "execution_count": 19,
     "metadata": {},
     "output_type": "execute_result"
    }
   ],
   "source": [
    "create_table_one(data=df_matched, treatment_col=TREATMENT_COL, features=covariates_to_check)"
   ]
  },
  {
   "cell_type": "code",
   "execution_count": 20,
   "metadata": {},
   "outputs": [
    {
     "data": {
      "text/plain": [
       "(10448, 11)"
      ]
     },
     "execution_count": 20,
     "metadata": {},
     "output_type": "execute_result"
    }
   ],
   "source": [
    "df_matched.shape"
   ]
  },
  {
   "cell_type": "code",
   "execution_count": 21,
   "metadata": {},
   "outputs": [
    {
     "data": {
      "text/plain": [
       "(10000, 11)"
      ]
     },
     "execution_count": 21,
     "metadata": {},
     "output_type": "execute_result"
    }
   ],
   "source": [
    "df.shape"
   ]
  },
  {
   "cell_type": "code",
   "execution_count": 22,
   "metadata": {},
   "outputs": [
    {
     "data": {
      "text/plain": [
       "False"
      ]
     },
     "execution_count": 22,
     "metadata": {},
     "output_type": "execute_result"
    }
   ],
   "source": [
    "df_matched.shape[0]<=df.shape[0]"
   ]
  },
  {
   "cell_type": "code",
   "execution_count": null,
   "metadata": {},
   "outputs": [],
   "source": []
  },
  {
   "cell_type": "code",
   "execution_count": null,
   "metadata": {},
   "outputs": [],
   "source": []
  },
  {
   "cell_type": "code",
   "execution_count": null,
   "metadata": {},
   "outputs": [],
   "source": []
  },
  {
   "cell_type": "code",
   "execution_count": null,
   "metadata": {},
   "outputs": [],
   "source": []
  },
  {
   "cell_type": "code",
   "execution_count": null,
   "metadata": {},
   "outputs": [],
   "source": []
  },
  {
   "cell_type": "code",
   "execution_count": null,
   "metadata": {},
   "outputs": [],
   "source": []
  },
  {
   "cell_type": "code",
   "execution_count": null,
   "metadata": {},
   "outputs": [],
   "source": []
  },
  {
   "cell_type": "code",
   "execution_count": 23,
   "metadata": {},
   "outputs": [],
   "source": [
    "import pandas as pd\n",
    "import numpy as np\n",
    "from matplotlib import pyplot as plt\n",
    "from sklearn.linear_model import LinearRegression\n",
    "from sklearn.model_selection import train_test_split\n",
    "import statsmodels.api as sm\n",
    "from xgboost import XGBRegressor\n",
    "import warnings\n",
    "\n",
    "from causalml.propensity import ElasticNetPropensityModel\n",
    "from causalml.match import NearestNeighborMatch, MatchOptimizer, create_table_one\n",
    "from causalml.inference.meta import BaseXRegressor, BaseDRRegressor\n",
    "from causalml.inference.iv import BaseDRIVRegressor\n",
    "from causalml.dataset import synthetic_data\n",
    "from causalml.metrics import *\n"
   ]
  },
  {
   "cell_type": "code",
   "execution_count": 24,
   "metadata": {},
   "outputs": [],
   "source": [
    "y, X, treatment, tau, b, e = synthetic_data(mode=1, n=10000, p=8, sigma=1.0)"
   ]
  },
  {
   "cell_type": "code",
   "execution_count": 25,
   "metadata": {},
   "outputs": [],
   "source": [
    "TREATMENT_COL = 'W'\n",
    "PROPENSITY_COL = 'pihat'\n",
    "OUTCOME_COL = 'y'"
   ]
  },
  {
   "cell_type": "code",
   "execution_count": 26,
   "metadata": {},
   "outputs": [],
   "source": [
    "df = pd.DataFrame(X)\n",
    "df = df.add_prefix(\"X\")\n",
    "df[TREATMENT_COL] = treatment\n",
    "df[PROPENSITY_COL] = e"
   ]
  },
  {
   "cell_type": "code",
   "execution_count": 27,
   "metadata": {},
   "outputs": [],
   "source": [
    "covariates = [col for col in df if col.startswith('X')]"
   ]
  },
  {
   "cell_type": "code",
   "execution_count": 28,
   "metadata": {},
   "outputs": [],
   "source": [
    "matcher = NearestNeighborMatch()\n",
    "score_cols = [PROPENSITY_COL]\n",
    "df_matched = matcher.match(data=df, treatment_col=TREATMENT_COL, score_cols=score_cols)\n",
    "#create_table_one(data=df_matched, treatment_col=TREATMENT_COL, features=covariates)"
   ]
  },
  {
   "cell_type": "code",
   "execution_count": 29,
   "metadata": {},
   "outputs": [],
   "source": [
    "df['noise'] = df.apply(lambda x: np.random.randn()-0.3 if x[TREATMENT_COL]==1 else np.random.randn(), axis=1)"
   ]
  },
  {
   "cell_type": "code",
   "execution_count": 30,
   "metadata": {},
   "outputs": [],
   "source": [
    "p_model = ElasticNetPropensityModel()\n",
    "p_hat = p_model.fit_predict(X=np.hstack((X, df['noise'].values.reshape(-1,1))),\n",
    "                            y=treatment)\n",
    "\n",
    "df_matched = matcher.match(data=df, treatment_col=TREATMENT_COL, score_cols=score_cols)\n"
   ]
  },
  {
   "cell_type": "code",
   "execution_count": 31,
   "metadata": {},
   "outputs": [],
   "source": [
    "covariates_to_check = [col for col in df_matched if col != TREATMENT_COL and col != OUTCOME_COL]\n"
   ]
  },
  {
   "cell_type": "code",
   "execution_count": 32,
   "metadata": {},
   "outputs": [],
   "source": [
    "if 'noise' not in covariates_to_check:\n",
    "    covariates_to_check.append('noise')\n",
    "\n",
    "opt = MatchOptimizer(treatment_col=TREATMENT_COL,\n",
    "                     ps_col=PROPENSITY_COL,\n",
    "                     matching_covariates=covariates_to_check,\n",
    "                     caliper_range=(0.01,1))\n",
    "df_matched = opt.search_best_match(df)"
   ]
  },
  {
   "cell_type": "code",
   "execution_count": 33,
   "metadata": {},
   "outputs": [
    {
     "data": {
      "text/plain": [
       "False"
      ]
     },
     "execution_count": 33,
     "metadata": {},
     "output_type": "execute_result"
    }
   ],
   "source": [
    "df_matched.shape[0]<=df.shape[0]"
   ]
  },
  {
   "cell_type": "code",
   "execution_count": null,
   "metadata": {},
   "outputs": [],
   "source": []
  }
 ],
 "metadata": {
  "kernelspec": {
   "display_name": "Python 3 (ipykernel)",
   "language": "python",
   "name": "python3"
  },
  "language_info": {
   "codemirror_mode": {
    "name": "ipython",
    "version": 3
   },
   "file_extension": ".py",
   "mimetype": "text/x-python",
   "name": "python",
   "nbconvert_exporter": "python",
   "pygments_lexer": "ipython3",
   "version": "3.8.17"
  }
 },
 "nbformat": 4,
 "nbformat_minor": 4
}
