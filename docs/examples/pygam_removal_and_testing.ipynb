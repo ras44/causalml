{
 "cells": [
  {
   "cell_type": "code",
   "execution_count": 1,
   "metadata": {},
   "outputs": [],
   "source": [
    "import matplotlib.pyplot as plt\n",
    "import seaborn as sns\n",
    "import numpy as np\n",
    "import pandas as pd\n",
    "\n",
    "%matplotlib inline"
   ]
  },
  {
   "cell_type": "code",
   "execution_count": 2,
   "metadata": {},
   "outputs": [
    {
     "name": "stderr",
     "output_type": "stream",
     "text": [
      "Failed to import duecredit due to No module named 'duecredit'\n"
     ]
    }
   ],
   "source": [
    "from causalml.dataset import make_uplift_classification_logistic\n",
    "from causalml.dataset import make_uplift_classification"
   ]
  },
  {
   "cell_type": "code",
   "execution_count": 3,
   "metadata": {},
   "outputs": [],
   "source": [
    "from sklearn.linear_model import LogisticRegression"
   ]
  },
  {
   "cell_type": "code",
   "execution_count": 4,
   "metadata": {},
   "outputs": [],
   "source": [
    "from pygam import LogisticGAM, s"
   ]
  },
  {
   "cell_type": "code",
   "execution_count": 5,
   "metadata": {},
   "outputs": [],
   "source": [
    "from causalml.propensity import (\n",
    "    ElasticNetPropensityModel,\n",
    "    GradientBoostedPropensityModel,\n",
    "    LogisticRegressionPropensityModel,\n",
    ")\n",
    "from causalml.metrics import roc_auc_score"
   ]
  },
  {
   "cell_type": "code",
   "execution_count": 6,
   "metadata": {},
   "outputs": [],
   "source": [
    "from causalml.propensity import compute_propensity_score"
   ]
  },
  {
   "cell_type": "markdown",
   "metadata": {},
   "source": [
    "# Copy code from tests/ to create data"
   ]
  },
  {
   "cell_type": "code",
   "execution_count": 7,
   "metadata": {},
   "outputs": [],
   "source": [
    "RANDOM_SEED = 42\n",
    "N_SAMPLE = 1000\n",
    "ERROR_THRESHOLD = 0.5\n",
    "NUM_FEATURES = 6\n",
    "\n",
    "TREATMENT_COL = \"treatment\"\n",
    "SCORE_COL = \"score\"\n",
    "GROUP_COL = \"group\"\n",
    "OUTCOME_COL = \"outcome\"\n",
    "\n",
    "CONTROL_NAME = \"control\"\n",
    "TREATMENT_NAMES = [CONTROL_NAME, \"treatment1\", \"treatment2\", \"treatment3\"]\n",
    "CONVERSION = \"conversion\"\n",
    "DELTA_UPLIFT_INCREASE_DICT = {\n",
    "    \"treatment1\": 0.25,\n",
    "}\n",
    "N_UPLIFT_INCREASE_DICT = {\"treatment1\": 2}\n"
   ]
  },
  {
   "cell_type": "code",
   "execution_count": 8,
   "metadata": {},
   "outputs": [],
   "source": [
    "np.random.seed(RANDOM_SEED)"
   ]
  },
  {
   "cell_type": "code",
   "execution_count": 9,
   "metadata": {},
   "outputs": [],
   "source": [
    "df, x_names = make_uplift_classification(\n",
    "    n_samples=N_SAMPLE,\n",
    "    treatment_name=TREATMENT_NAMES,\n",
    "    y_name=CONVERSION,\n",
    "    random_seed=RANDOM_SEED,\n",
    ")\n"
   ]
  },
  {
   "cell_type": "code",
   "execution_count": 10,
   "metadata": {},
   "outputs": [
    {
     "data": {
      "text/html": [
       "<div>\n",
       "<style scoped>\n",
       "    .dataframe tbody tr th:only-of-type {\n",
       "        vertical-align: middle;\n",
       "    }\n",
       "\n",
       "    .dataframe tbody tr th {\n",
       "        vertical-align: top;\n",
       "    }\n",
       "\n",
       "    .dataframe thead th {\n",
       "        text-align: right;\n",
       "    }\n",
       "</style>\n",
       "<table border=\"1\" class=\"dataframe\">\n",
       "  <thead>\n",
       "    <tr style=\"text-align: right;\">\n",
       "      <th></th>\n",
       "      <th>treatment_group_key</th>\n",
       "      <th>x1_informative</th>\n",
       "      <th>x2_informative</th>\n",
       "      <th>x3_informative</th>\n",
       "      <th>x4_informative</th>\n",
       "      <th>x5_informative</th>\n",
       "      <th>x6_irrelevant</th>\n",
       "      <th>x7_irrelevant</th>\n",
       "      <th>x8_irrelevant</th>\n",
       "      <th>x9_irrelevant</th>\n",
       "      <th>...</th>\n",
       "      <th>x12_uplift_increase</th>\n",
       "      <th>x13_increase_mix</th>\n",
       "      <th>x14_uplift_increase</th>\n",
       "      <th>x15_uplift_increase</th>\n",
       "      <th>x16_increase_mix</th>\n",
       "      <th>x17_uplift_increase</th>\n",
       "      <th>x18_uplift_increase</th>\n",
       "      <th>x19_increase_mix</th>\n",
       "      <th>conversion</th>\n",
       "      <th>treatment_effect</th>\n",
       "    </tr>\n",
       "  </thead>\n",
       "  <tbody>\n",
       "    <tr>\n",
       "      <th>0</th>\n",
       "      <td>control</td>\n",
       "      <td>0.657479</td>\n",
       "      <td>-0.443360</td>\n",
       "      <td>-2.402375</td>\n",
       "      <td>2.195439</td>\n",
       "      <td>-0.918792</td>\n",
       "      <td>0.953660</td>\n",
       "      <td>1.380484</td>\n",
       "      <td>-0.414387</td>\n",
       "      <td>-0.314830</td>\n",
       "      <td>...</td>\n",
       "      <td>-0.589027</td>\n",
       "      <td>0.485289</td>\n",
       "      <td>1.380695</td>\n",
       "      <td>0.862746</td>\n",
       "      <td>-0.139670</td>\n",
       "      <td>-3.339225</td>\n",
       "      <td>-0.670977</td>\n",
       "      <td>-1.060338</td>\n",
       "      <td>1</td>\n",
       "      <td>0</td>\n",
       "    </tr>\n",
       "    <tr>\n",
       "      <th>1</th>\n",
       "      <td>treatment3</td>\n",
       "      <td>-3.550170</td>\n",
       "      <td>-0.677176</td>\n",
       "      <td>0.496001</td>\n",
       "      <td>2.578495</td>\n",
       "      <td>0.878774</td>\n",
       "      <td>-1.265629</td>\n",
       "      <td>1.507098</td>\n",
       "      <td>0.472798</td>\n",
       "      <td>0.031004</td>\n",
       "      <td>...</td>\n",
       "      <td>-0.270001</td>\n",
       "      <td>0.622789</td>\n",
       "      <td>1.133862</td>\n",
       "      <td>0.932638</td>\n",
       "      <td>-0.185633</td>\n",
       "      <td>1.421218</td>\n",
       "      <td>0.798990</td>\n",
       "      <td>1.143162</td>\n",
       "      <td>1</td>\n",
       "      <td>0</td>\n",
       "    </tr>\n",
       "    <tr>\n",
       "      <th>2</th>\n",
       "      <td>control</td>\n",
       "      <td>0.337708</td>\n",
       "      <td>-0.205064</td>\n",
       "      <td>-0.935860</td>\n",
       "      <td>2.387802</td>\n",
       "      <td>1.291499</td>\n",
       "      <td>0.321825</td>\n",
       "      <td>-0.176657</td>\n",
       "      <td>-0.919809</td>\n",
       "      <td>-0.729275</td>\n",
       "      <td>...</td>\n",
       "      <td>-0.466893</td>\n",
       "      <td>0.549570</td>\n",
       "      <td>0.455023</td>\n",
       "      <td>1.345184</td>\n",
       "      <td>-0.132644</td>\n",
       "      <td>-0.629653</td>\n",
       "      <td>1.056432</td>\n",
       "      <td>-0.102886</td>\n",
       "      <td>1</td>\n",
       "      <td>0</td>\n",
       "    </tr>\n",
       "    <tr>\n",
       "      <th>3</th>\n",
       "      <td>treatment3</td>\n",
       "      <td>-0.658448</td>\n",
       "      <td>0.709190</td>\n",
       "      <td>-0.904006</td>\n",
       "      <td>0.916896</td>\n",
       "      <td>-1.774884</td>\n",
       "      <td>0.738277</td>\n",
       "      <td>-0.274451</td>\n",
       "      <td>1.544034</td>\n",
       "      <td>-0.094857</td>\n",
       "      <td>...</td>\n",
       "      <td>-1.706929</td>\n",
       "      <td>0.019702</td>\n",
       "      <td>0.808746</td>\n",
       "      <td>1.112279</td>\n",
       "      <td>0.044175</td>\n",
       "      <td>-0.235096</td>\n",
       "      <td>2.678429</td>\n",
       "      <td>-0.666264</td>\n",
       "      <td>0</td>\n",
       "      <td>0</td>\n",
       "    </tr>\n",
       "    <tr>\n",
       "      <th>4</th>\n",
       "      <td>treatment2</td>\n",
       "      <td>-1.746624</td>\n",
       "      <td>0.815740</td>\n",
       "      <td>0.526936</td>\n",
       "      <td>-1.045280</td>\n",
       "      <td>-0.214065</td>\n",
       "      <td>0.057787</td>\n",
       "      <td>-2.294394</td>\n",
       "      <td>0.560460</td>\n",
       "      <td>0.342247</td>\n",
       "      <td>...</td>\n",
       "      <td>-0.814635</td>\n",
       "      <td>-0.368205</td>\n",
       "      <td>0.709317</td>\n",
       "      <td>1.075760</td>\n",
       "      <td>0.065456</td>\n",
       "      <td>0.915348</td>\n",
       "      <td>1.409424</td>\n",
       "      <td>-0.264037</td>\n",
       "      <td>0</td>\n",
       "      <td>0</td>\n",
       "    </tr>\n",
       "    <tr>\n",
       "      <th>...</th>\n",
       "      <td>...</td>\n",
       "      <td>...</td>\n",
       "      <td>...</td>\n",
       "      <td>...</td>\n",
       "      <td>...</td>\n",
       "      <td>...</td>\n",
       "      <td>...</td>\n",
       "      <td>...</td>\n",
       "      <td>...</td>\n",
       "      <td>...</td>\n",
       "      <td>...</td>\n",
       "      <td>...</td>\n",
       "      <td>...</td>\n",
       "      <td>...</td>\n",
       "      <td>...</td>\n",
       "      <td>...</td>\n",
       "      <td>...</td>\n",
       "      <td>...</td>\n",
       "      <td>...</td>\n",
       "      <td>...</td>\n",
       "      <td>...</td>\n",
       "    </tr>\n",
       "    <tr>\n",
       "      <th>3995</th>\n",
       "      <td>treatment1</td>\n",
       "      <td>-0.781229</td>\n",
       "      <td>0.643953</td>\n",
       "      <td>-0.156863</td>\n",
       "      <td>1.799299</td>\n",
       "      <td>1.127438</td>\n",
       "      <td>-0.199674</td>\n",
       "      <td>-1.261297</td>\n",
       "      <td>-0.317617</td>\n",
       "      <td>-0.029676</td>\n",
       "      <td>...</td>\n",
       "      <td>-0.592398</td>\n",
       "      <td>0.383991</td>\n",
       "      <td>0.670806</td>\n",
       "      <td>1.237448</td>\n",
       "      <td>0.023751</td>\n",
       "      <td>-0.780821</td>\n",
       "      <td>1.504774</td>\n",
       "      <td>-0.845323</td>\n",
       "      <td>0</td>\n",
       "      <td>0</td>\n",
       "    </tr>\n",
       "    <tr>\n",
       "      <th>3996</th>\n",
       "      <td>treatment1</td>\n",
       "      <td>-0.149589</td>\n",
       "      <td>-0.593811</td>\n",
       "      <td>0.382449</td>\n",
       "      <td>0.227025</td>\n",
       "      <td>-0.156404</td>\n",
       "      <td>1.008681</td>\n",
       "      <td>-1.368592</td>\n",
       "      <td>-0.886641</td>\n",
       "      <td>-0.600990</td>\n",
       "      <td>...</td>\n",
       "      <td>-0.869664</td>\n",
       "      <td>-0.051109</td>\n",
       "      <td>0.714499</td>\n",
       "      <td>1.233508</td>\n",
       "      <td>-0.192675</td>\n",
       "      <td>1.620011</td>\n",
       "      <td>3.217546</td>\n",
       "      <td>1.160765</td>\n",
       "      <td>0</td>\n",
       "      <td>0</td>\n",
       "    </tr>\n",
       "    <tr>\n",
       "      <th>3997</th>\n",
       "      <td>control</td>\n",
       "      <td>1.025420</td>\n",
       "      <td>1.322352</td>\n",
       "      <td>0.045153</td>\n",
       "      <td>-0.510702</td>\n",
       "      <td>-0.147870</td>\n",
       "      <td>-0.179250</td>\n",
       "      <td>0.800310</td>\n",
       "      <td>-0.831470</td>\n",
       "      <td>-1.018497</td>\n",
       "      <td>...</td>\n",
       "      <td>-0.956098</td>\n",
       "      <td>-0.249793</td>\n",
       "      <td>0.511915</td>\n",
       "      <td>-0.857066</td>\n",
       "      <td>0.293157</td>\n",
       "      <td>0.352540</td>\n",
       "      <td>1.483086</td>\n",
       "      <td>-0.907262</td>\n",
       "      <td>1</td>\n",
       "      <td>0</td>\n",
       "    </tr>\n",
       "    <tr>\n",
       "      <th>3998</th>\n",
       "      <td>treatment3</td>\n",
       "      <td>0.624495</td>\n",
       "      <td>1.519888</td>\n",
       "      <td>0.505061</td>\n",
       "      <td>3.550311</td>\n",
       "      <td>-0.196157</td>\n",
       "      <td>-2.047163</td>\n",
       "      <td>0.132495</td>\n",
       "      <td>0.200972</td>\n",
       "      <td>0.804704</td>\n",
       "      <td>...</td>\n",
       "      <td>-1.093604</td>\n",
       "      <td>0.767107</td>\n",
       "      <td>1.180481</td>\n",
       "      <td>0.846085</td>\n",
       "      <td>0.205257</td>\n",
       "      <td>0.717389</td>\n",
       "      <td>1.219995</td>\n",
       "      <td>-0.910540</td>\n",
       "      <td>1</td>\n",
       "      <td>0</td>\n",
       "    </tr>\n",
       "    <tr>\n",
       "      <th>3999</th>\n",
       "      <td>treatment3</td>\n",
       "      <td>-1.442327</td>\n",
       "      <td>0.942880</td>\n",
       "      <td>1.687641</td>\n",
       "      <td>-0.213324</td>\n",
       "      <td>-0.121290</td>\n",
       "      <td>-0.546084</td>\n",
       "      <td>-1.018397</td>\n",
       "      <td>1.640720</td>\n",
       "      <td>-0.261320</td>\n",
       "      <td>...</td>\n",
       "      <td>-0.956588</td>\n",
       "      <td>-0.174129</td>\n",
       "      <td>1.094118</td>\n",
       "      <td>1.084336</td>\n",
       "      <td>0.087099</td>\n",
       "      <td>0.169063</td>\n",
       "      <td>1.461867</td>\n",
       "      <td>-0.681776</td>\n",
       "      <td>1</td>\n",
       "      <td>0</td>\n",
       "    </tr>\n",
       "  </tbody>\n",
       "</table>\n",
       "<p>4000 rows × 22 columns</p>\n",
       "</div>"
      ],
      "text/plain": [
       "     treatment_group_key  x1_informative  x2_informative  x3_informative  \\\n",
       "0                control        0.657479       -0.443360       -2.402375   \n",
       "1             treatment3       -3.550170       -0.677176        0.496001   \n",
       "2                control        0.337708       -0.205064       -0.935860   \n",
       "3             treatment3       -0.658448        0.709190       -0.904006   \n",
       "4             treatment2       -1.746624        0.815740        0.526936   \n",
       "...                  ...             ...             ...             ...   \n",
       "3995          treatment1       -0.781229        0.643953       -0.156863   \n",
       "3996          treatment1       -0.149589       -0.593811        0.382449   \n",
       "3997             control        1.025420        1.322352        0.045153   \n",
       "3998          treatment3        0.624495        1.519888        0.505061   \n",
       "3999          treatment3       -1.442327        0.942880        1.687641   \n",
       "\n",
       "      x4_informative  x5_informative  x6_irrelevant  x7_irrelevant  \\\n",
       "0           2.195439       -0.918792       0.953660       1.380484   \n",
       "1           2.578495        0.878774      -1.265629       1.507098   \n",
       "2           2.387802        1.291499       0.321825      -0.176657   \n",
       "3           0.916896       -1.774884       0.738277      -0.274451   \n",
       "4          -1.045280       -0.214065       0.057787      -2.294394   \n",
       "...              ...             ...            ...            ...   \n",
       "3995        1.799299        1.127438      -0.199674      -1.261297   \n",
       "3996        0.227025       -0.156404       1.008681      -1.368592   \n",
       "3997       -0.510702       -0.147870      -0.179250       0.800310   \n",
       "3998        3.550311       -0.196157      -2.047163       0.132495   \n",
       "3999       -0.213324       -0.121290      -0.546084      -1.018397   \n",
       "\n",
       "      x8_irrelevant  x9_irrelevant  ...  x12_uplift_increase  \\\n",
       "0         -0.414387      -0.314830  ...            -0.589027   \n",
       "1          0.472798       0.031004  ...            -0.270001   \n",
       "2         -0.919809      -0.729275  ...            -0.466893   \n",
       "3          1.544034      -0.094857  ...            -1.706929   \n",
       "4          0.560460       0.342247  ...            -0.814635   \n",
       "...             ...            ...  ...                  ...   \n",
       "3995      -0.317617      -0.029676  ...            -0.592398   \n",
       "3996      -0.886641      -0.600990  ...            -0.869664   \n",
       "3997      -0.831470      -1.018497  ...            -0.956098   \n",
       "3998       0.200972       0.804704  ...            -1.093604   \n",
       "3999       1.640720      -0.261320  ...            -0.956588   \n",
       "\n",
       "      x13_increase_mix  x14_uplift_increase  x15_uplift_increase  \\\n",
       "0             0.485289             1.380695             0.862746   \n",
       "1             0.622789             1.133862             0.932638   \n",
       "2             0.549570             0.455023             1.345184   \n",
       "3             0.019702             0.808746             1.112279   \n",
       "4            -0.368205             0.709317             1.075760   \n",
       "...                ...                  ...                  ...   \n",
       "3995          0.383991             0.670806             1.237448   \n",
       "3996         -0.051109             0.714499             1.233508   \n",
       "3997         -0.249793             0.511915            -0.857066   \n",
       "3998          0.767107             1.180481             0.846085   \n",
       "3999         -0.174129             1.094118             1.084336   \n",
       "\n",
       "      x16_increase_mix  x17_uplift_increase  x18_uplift_increase  \\\n",
       "0            -0.139670            -3.339225            -0.670977   \n",
       "1            -0.185633             1.421218             0.798990   \n",
       "2            -0.132644            -0.629653             1.056432   \n",
       "3             0.044175            -0.235096             2.678429   \n",
       "4             0.065456             0.915348             1.409424   \n",
       "...                ...                  ...                  ...   \n",
       "3995          0.023751            -0.780821             1.504774   \n",
       "3996         -0.192675             1.620011             3.217546   \n",
       "3997          0.293157             0.352540             1.483086   \n",
       "3998          0.205257             0.717389             1.219995   \n",
       "3999          0.087099             0.169063             1.461867   \n",
       "\n",
       "      x19_increase_mix  conversion  treatment_effect  \n",
       "0            -1.060338           1                 0  \n",
       "1             1.143162           1                 0  \n",
       "2            -0.102886           1                 0  \n",
       "3            -0.666264           0                 0  \n",
       "4            -0.264037           0                 0  \n",
       "...                ...         ...               ...  \n",
       "3995         -0.845323           0                 0  \n",
       "3996          1.160765           0                 0  \n",
       "3997         -0.907262           1                 0  \n",
       "3998         -0.910540           1                 0  \n",
       "3999         -0.681776           1                 0  \n",
       "\n",
       "[4000 rows x 22 columns]"
      ]
     },
     "execution_count": 10,
     "metadata": {},
     "output_type": "execute_result"
    }
   ],
   "source": [
    "df\n"
   ]
  },
  {
   "cell_type": "code",
   "execution_count": 11,
   "metadata": {},
   "outputs": [
    {
     "data": {
      "text/plain": [
       "['x1_informative',\n",
       " 'x2_informative',\n",
       " 'x3_informative',\n",
       " 'x4_informative',\n",
       " 'x5_informative',\n",
       " 'x6_irrelevant',\n",
       " 'x7_irrelevant',\n",
       " 'x8_irrelevant',\n",
       " 'x9_irrelevant',\n",
       " 'x10_irrelevant',\n",
       " 'x11_uplift_increase',\n",
       " 'x12_uplift_increase',\n",
       " 'x13_increase_mix',\n",
       " 'x14_uplift_increase',\n",
       " 'x15_uplift_increase',\n",
       " 'x16_increase_mix',\n",
       " 'x17_uplift_increase',\n",
       " 'x18_uplift_increase',\n",
       " 'x19_increase_mix']"
      ]
     },
     "execution_count": 11,
     "metadata": {},
     "output_type": "execute_result"
    }
   ],
   "source": [
    "x_names"
   ]
  },
  {
   "cell_type": "code",
   "execution_count": 12,
   "metadata": {},
   "outputs": [],
   "source": [
    "df[\"treatment_group_key\"] = np.where(\n",
    "    df[\"treatment_group_key\"] == CONTROL_NAME, 0, 1\n",
    ")"
   ]
  },
  {
   "cell_type": "code",
   "execution_count": 13,
   "metadata": {},
   "outputs": [
    {
     "data": {
      "text/html": [
       "<div>\n",
       "<style scoped>\n",
       "    .dataframe tbody tr th:only-of-type {\n",
       "        vertical-align: middle;\n",
       "    }\n",
       "\n",
       "    .dataframe tbody tr th {\n",
       "        vertical-align: top;\n",
       "    }\n",
       "\n",
       "    .dataframe thead th {\n",
       "        text-align: right;\n",
       "    }\n",
       "</style>\n",
       "<table border=\"1\" class=\"dataframe\">\n",
       "  <thead>\n",
       "    <tr style=\"text-align: right;\">\n",
       "      <th></th>\n",
       "      <th>treatment_group_key</th>\n",
       "      <th>x1_informative</th>\n",
       "      <th>x2_informative</th>\n",
       "      <th>x3_informative</th>\n",
       "      <th>x4_informative</th>\n",
       "      <th>x5_informative</th>\n",
       "      <th>x6_irrelevant</th>\n",
       "      <th>x7_irrelevant</th>\n",
       "      <th>x8_irrelevant</th>\n",
       "      <th>x9_irrelevant</th>\n",
       "      <th>...</th>\n",
       "      <th>x12_uplift_increase</th>\n",
       "      <th>x13_increase_mix</th>\n",
       "      <th>x14_uplift_increase</th>\n",
       "      <th>x15_uplift_increase</th>\n",
       "      <th>x16_increase_mix</th>\n",
       "      <th>x17_uplift_increase</th>\n",
       "      <th>x18_uplift_increase</th>\n",
       "      <th>x19_increase_mix</th>\n",
       "      <th>conversion</th>\n",
       "      <th>treatment_effect</th>\n",
       "    </tr>\n",
       "  </thead>\n",
       "  <tbody>\n",
       "    <tr>\n",
       "      <th>0</th>\n",
       "      <td>0</td>\n",
       "      <td>0.657479</td>\n",
       "      <td>-0.443360</td>\n",
       "      <td>-2.402375</td>\n",
       "      <td>2.195439</td>\n",
       "      <td>-0.918792</td>\n",
       "      <td>0.953660</td>\n",
       "      <td>1.380484</td>\n",
       "      <td>-0.414387</td>\n",
       "      <td>-0.314830</td>\n",
       "      <td>...</td>\n",
       "      <td>-0.589027</td>\n",
       "      <td>0.485289</td>\n",
       "      <td>1.380695</td>\n",
       "      <td>0.862746</td>\n",
       "      <td>-0.139670</td>\n",
       "      <td>-3.339225</td>\n",
       "      <td>-0.670977</td>\n",
       "      <td>-1.060338</td>\n",
       "      <td>1</td>\n",
       "      <td>0</td>\n",
       "    </tr>\n",
       "    <tr>\n",
       "      <th>1</th>\n",
       "      <td>1</td>\n",
       "      <td>-3.550170</td>\n",
       "      <td>-0.677176</td>\n",
       "      <td>0.496001</td>\n",
       "      <td>2.578495</td>\n",
       "      <td>0.878774</td>\n",
       "      <td>-1.265629</td>\n",
       "      <td>1.507098</td>\n",
       "      <td>0.472798</td>\n",
       "      <td>0.031004</td>\n",
       "      <td>...</td>\n",
       "      <td>-0.270001</td>\n",
       "      <td>0.622789</td>\n",
       "      <td>1.133862</td>\n",
       "      <td>0.932638</td>\n",
       "      <td>-0.185633</td>\n",
       "      <td>1.421218</td>\n",
       "      <td>0.798990</td>\n",
       "      <td>1.143162</td>\n",
       "      <td>1</td>\n",
       "      <td>0</td>\n",
       "    </tr>\n",
       "    <tr>\n",
       "      <th>2</th>\n",
       "      <td>0</td>\n",
       "      <td>0.337708</td>\n",
       "      <td>-0.205064</td>\n",
       "      <td>-0.935860</td>\n",
       "      <td>2.387802</td>\n",
       "      <td>1.291499</td>\n",
       "      <td>0.321825</td>\n",
       "      <td>-0.176657</td>\n",
       "      <td>-0.919809</td>\n",
       "      <td>-0.729275</td>\n",
       "      <td>...</td>\n",
       "      <td>-0.466893</td>\n",
       "      <td>0.549570</td>\n",
       "      <td>0.455023</td>\n",
       "      <td>1.345184</td>\n",
       "      <td>-0.132644</td>\n",
       "      <td>-0.629653</td>\n",
       "      <td>1.056432</td>\n",
       "      <td>-0.102886</td>\n",
       "      <td>1</td>\n",
       "      <td>0</td>\n",
       "    </tr>\n",
       "    <tr>\n",
       "      <th>3</th>\n",
       "      <td>1</td>\n",
       "      <td>-0.658448</td>\n",
       "      <td>0.709190</td>\n",
       "      <td>-0.904006</td>\n",
       "      <td>0.916896</td>\n",
       "      <td>-1.774884</td>\n",
       "      <td>0.738277</td>\n",
       "      <td>-0.274451</td>\n",
       "      <td>1.544034</td>\n",
       "      <td>-0.094857</td>\n",
       "      <td>...</td>\n",
       "      <td>-1.706929</td>\n",
       "      <td>0.019702</td>\n",
       "      <td>0.808746</td>\n",
       "      <td>1.112279</td>\n",
       "      <td>0.044175</td>\n",
       "      <td>-0.235096</td>\n",
       "      <td>2.678429</td>\n",
       "      <td>-0.666264</td>\n",
       "      <td>0</td>\n",
       "      <td>0</td>\n",
       "    </tr>\n",
       "    <tr>\n",
       "      <th>4</th>\n",
       "      <td>1</td>\n",
       "      <td>-1.746624</td>\n",
       "      <td>0.815740</td>\n",
       "      <td>0.526936</td>\n",
       "      <td>-1.045280</td>\n",
       "      <td>-0.214065</td>\n",
       "      <td>0.057787</td>\n",
       "      <td>-2.294394</td>\n",
       "      <td>0.560460</td>\n",
       "      <td>0.342247</td>\n",
       "      <td>...</td>\n",
       "      <td>-0.814635</td>\n",
       "      <td>-0.368205</td>\n",
       "      <td>0.709317</td>\n",
       "      <td>1.075760</td>\n",
       "      <td>0.065456</td>\n",
       "      <td>0.915348</td>\n",
       "      <td>1.409424</td>\n",
       "      <td>-0.264037</td>\n",
       "      <td>0</td>\n",
       "      <td>0</td>\n",
       "    </tr>\n",
       "    <tr>\n",
       "      <th>...</th>\n",
       "      <td>...</td>\n",
       "      <td>...</td>\n",
       "      <td>...</td>\n",
       "      <td>...</td>\n",
       "      <td>...</td>\n",
       "      <td>...</td>\n",
       "      <td>...</td>\n",
       "      <td>...</td>\n",
       "      <td>...</td>\n",
       "      <td>...</td>\n",
       "      <td>...</td>\n",
       "      <td>...</td>\n",
       "      <td>...</td>\n",
       "      <td>...</td>\n",
       "      <td>...</td>\n",
       "      <td>...</td>\n",
       "      <td>...</td>\n",
       "      <td>...</td>\n",
       "      <td>...</td>\n",
       "      <td>...</td>\n",
       "      <td>...</td>\n",
       "    </tr>\n",
       "    <tr>\n",
       "      <th>3995</th>\n",
       "      <td>1</td>\n",
       "      <td>-0.781229</td>\n",
       "      <td>0.643953</td>\n",
       "      <td>-0.156863</td>\n",
       "      <td>1.799299</td>\n",
       "      <td>1.127438</td>\n",
       "      <td>-0.199674</td>\n",
       "      <td>-1.261297</td>\n",
       "      <td>-0.317617</td>\n",
       "      <td>-0.029676</td>\n",
       "      <td>...</td>\n",
       "      <td>-0.592398</td>\n",
       "      <td>0.383991</td>\n",
       "      <td>0.670806</td>\n",
       "      <td>1.237448</td>\n",
       "      <td>0.023751</td>\n",
       "      <td>-0.780821</td>\n",
       "      <td>1.504774</td>\n",
       "      <td>-0.845323</td>\n",
       "      <td>0</td>\n",
       "      <td>0</td>\n",
       "    </tr>\n",
       "    <tr>\n",
       "      <th>3996</th>\n",
       "      <td>1</td>\n",
       "      <td>-0.149589</td>\n",
       "      <td>-0.593811</td>\n",
       "      <td>0.382449</td>\n",
       "      <td>0.227025</td>\n",
       "      <td>-0.156404</td>\n",
       "      <td>1.008681</td>\n",
       "      <td>-1.368592</td>\n",
       "      <td>-0.886641</td>\n",
       "      <td>-0.600990</td>\n",
       "      <td>...</td>\n",
       "      <td>-0.869664</td>\n",
       "      <td>-0.051109</td>\n",
       "      <td>0.714499</td>\n",
       "      <td>1.233508</td>\n",
       "      <td>-0.192675</td>\n",
       "      <td>1.620011</td>\n",
       "      <td>3.217546</td>\n",
       "      <td>1.160765</td>\n",
       "      <td>0</td>\n",
       "      <td>0</td>\n",
       "    </tr>\n",
       "    <tr>\n",
       "      <th>3997</th>\n",
       "      <td>0</td>\n",
       "      <td>1.025420</td>\n",
       "      <td>1.322352</td>\n",
       "      <td>0.045153</td>\n",
       "      <td>-0.510702</td>\n",
       "      <td>-0.147870</td>\n",
       "      <td>-0.179250</td>\n",
       "      <td>0.800310</td>\n",
       "      <td>-0.831470</td>\n",
       "      <td>-1.018497</td>\n",
       "      <td>...</td>\n",
       "      <td>-0.956098</td>\n",
       "      <td>-0.249793</td>\n",
       "      <td>0.511915</td>\n",
       "      <td>-0.857066</td>\n",
       "      <td>0.293157</td>\n",
       "      <td>0.352540</td>\n",
       "      <td>1.483086</td>\n",
       "      <td>-0.907262</td>\n",
       "      <td>1</td>\n",
       "      <td>0</td>\n",
       "    </tr>\n",
       "    <tr>\n",
       "      <th>3998</th>\n",
       "      <td>1</td>\n",
       "      <td>0.624495</td>\n",
       "      <td>1.519888</td>\n",
       "      <td>0.505061</td>\n",
       "      <td>3.550311</td>\n",
       "      <td>-0.196157</td>\n",
       "      <td>-2.047163</td>\n",
       "      <td>0.132495</td>\n",
       "      <td>0.200972</td>\n",
       "      <td>0.804704</td>\n",
       "      <td>...</td>\n",
       "      <td>-1.093604</td>\n",
       "      <td>0.767107</td>\n",
       "      <td>1.180481</td>\n",
       "      <td>0.846085</td>\n",
       "      <td>0.205257</td>\n",
       "      <td>0.717389</td>\n",
       "      <td>1.219995</td>\n",
       "      <td>-0.910540</td>\n",
       "      <td>1</td>\n",
       "      <td>0</td>\n",
       "    </tr>\n",
       "    <tr>\n",
       "      <th>3999</th>\n",
       "      <td>1</td>\n",
       "      <td>-1.442327</td>\n",
       "      <td>0.942880</td>\n",
       "      <td>1.687641</td>\n",
       "      <td>-0.213324</td>\n",
       "      <td>-0.121290</td>\n",
       "      <td>-0.546084</td>\n",
       "      <td>-1.018397</td>\n",
       "      <td>1.640720</td>\n",
       "      <td>-0.261320</td>\n",
       "      <td>...</td>\n",
       "      <td>-0.956588</td>\n",
       "      <td>-0.174129</td>\n",
       "      <td>1.094118</td>\n",
       "      <td>1.084336</td>\n",
       "      <td>0.087099</td>\n",
       "      <td>0.169063</td>\n",
       "      <td>1.461867</td>\n",
       "      <td>-0.681776</td>\n",
       "      <td>1</td>\n",
       "      <td>0</td>\n",
       "    </tr>\n",
       "  </tbody>\n",
       "</table>\n",
       "<p>4000 rows × 22 columns</p>\n",
       "</div>"
      ],
      "text/plain": [
       "      treatment_group_key  x1_informative  x2_informative  x3_informative  \\\n",
       "0                       0        0.657479       -0.443360       -2.402375   \n",
       "1                       1       -3.550170       -0.677176        0.496001   \n",
       "2                       0        0.337708       -0.205064       -0.935860   \n",
       "3                       1       -0.658448        0.709190       -0.904006   \n",
       "4                       1       -1.746624        0.815740        0.526936   \n",
       "...                   ...             ...             ...             ...   \n",
       "3995                    1       -0.781229        0.643953       -0.156863   \n",
       "3996                    1       -0.149589       -0.593811        0.382449   \n",
       "3997                    0        1.025420        1.322352        0.045153   \n",
       "3998                    1        0.624495        1.519888        0.505061   \n",
       "3999                    1       -1.442327        0.942880        1.687641   \n",
       "\n",
       "      x4_informative  x5_informative  x6_irrelevant  x7_irrelevant  \\\n",
       "0           2.195439       -0.918792       0.953660       1.380484   \n",
       "1           2.578495        0.878774      -1.265629       1.507098   \n",
       "2           2.387802        1.291499       0.321825      -0.176657   \n",
       "3           0.916896       -1.774884       0.738277      -0.274451   \n",
       "4          -1.045280       -0.214065       0.057787      -2.294394   \n",
       "...              ...             ...            ...            ...   \n",
       "3995        1.799299        1.127438      -0.199674      -1.261297   \n",
       "3996        0.227025       -0.156404       1.008681      -1.368592   \n",
       "3997       -0.510702       -0.147870      -0.179250       0.800310   \n",
       "3998        3.550311       -0.196157      -2.047163       0.132495   \n",
       "3999       -0.213324       -0.121290      -0.546084      -1.018397   \n",
       "\n",
       "      x8_irrelevant  x9_irrelevant  ...  x12_uplift_increase  \\\n",
       "0         -0.414387      -0.314830  ...            -0.589027   \n",
       "1          0.472798       0.031004  ...            -0.270001   \n",
       "2         -0.919809      -0.729275  ...            -0.466893   \n",
       "3          1.544034      -0.094857  ...            -1.706929   \n",
       "4          0.560460       0.342247  ...            -0.814635   \n",
       "...             ...            ...  ...                  ...   \n",
       "3995      -0.317617      -0.029676  ...            -0.592398   \n",
       "3996      -0.886641      -0.600990  ...            -0.869664   \n",
       "3997      -0.831470      -1.018497  ...            -0.956098   \n",
       "3998       0.200972       0.804704  ...            -1.093604   \n",
       "3999       1.640720      -0.261320  ...            -0.956588   \n",
       "\n",
       "      x13_increase_mix  x14_uplift_increase  x15_uplift_increase  \\\n",
       "0             0.485289             1.380695             0.862746   \n",
       "1             0.622789             1.133862             0.932638   \n",
       "2             0.549570             0.455023             1.345184   \n",
       "3             0.019702             0.808746             1.112279   \n",
       "4            -0.368205             0.709317             1.075760   \n",
       "...                ...                  ...                  ...   \n",
       "3995          0.383991             0.670806             1.237448   \n",
       "3996         -0.051109             0.714499             1.233508   \n",
       "3997         -0.249793             0.511915            -0.857066   \n",
       "3998          0.767107             1.180481             0.846085   \n",
       "3999         -0.174129             1.094118             1.084336   \n",
       "\n",
       "      x16_increase_mix  x17_uplift_increase  x18_uplift_increase  \\\n",
       "0            -0.139670            -3.339225            -0.670977   \n",
       "1            -0.185633             1.421218             0.798990   \n",
       "2            -0.132644            -0.629653             1.056432   \n",
       "3             0.044175            -0.235096             2.678429   \n",
       "4             0.065456             0.915348             1.409424   \n",
       "...                ...                  ...                  ...   \n",
       "3995          0.023751            -0.780821             1.504774   \n",
       "3996         -0.192675             1.620011             3.217546   \n",
       "3997          0.293157             0.352540             1.483086   \n",
       "3998          0.205257             0.717389             1.219995   \n",
       "3999          0.087099             0.169063             1.461867   \n",
       "\n",
       "      x19_increase_mix  conversion  treatment_effect  \n",
       "0            -1.060338           1                 0  \n",
       "1             1.143162           1                 0  \n",
       "2            -0.102886           1                 0  \n",
       "3            -0.666264           0                 0  \n",
       "4            -0.264037           0                 0  \n",
       "...                ...         ...               ...  \n",
       "3995         -0.845323           0                 0  \n",
       "3996          1.160765           0                 0  \n",
       "3997         -0.907262           1                 0  \n",
       "3998         -0.910540           1                 0  \n",
       "3999         -0.681776           1                 0  \n",
       "\n",
       "[4000 rows x 22 columns]"
      ]
     },
     "execution_count": 13,
     "metadata": {},
     "output_type": "execute_result"
    }
   ],
   "source": [
    "df"
   ]
  },
  {
   "cell_type": "markdown",
   "metadata": {},
   "source": [
    "#  Fit propensity score models"
   ]
  },
  {
   "cell_type": "markdown",
   "metadata": {},
   "source": [
    "## Logistic Regression (sci-kit learn)"
   ]
  },
  {
   "cell_type": "code",
   "execution_count": 14,
   "metadata": {},
   "outputs": [],
   "source": [
    "pm_lr = LogisticRegression()"
   ]
  },
  {
   "cell_type": "code",
   "execution_count": 15,
   "metadata": {},
   "outputs": [
    {
     "data": {
      "text/html": [
       "<style>#sk-container-id-1 {color: black;}#sk-container-id-1 pre{padding: 0;}#sk-container-id-1 div.sk-toggleable {background-color: white;}#sk-container-id-1 label.sk-toggleable__label {cursor: pointer;display: block;width: 100%;margin-bottom: 0;padding: 0.3em;box-sizing: border-box;text-align: center;}#sk-container-id-1 label.sk-toggleable__label-arrow:before {content: \"▸\";float: left;margin-right: 0.25em;color: #696969;}#sk-container-id-1 label.sk-toggleable__label-arrow:hover:before {color: black;}#sk-container-id-1 div.sk-estimator:hover label.sk-toggleable__label-arrow:before {color: black;}#sk-container-id-1 div.sk-toggleable__content {max-height: 0;max-width: 0;overflow: hidden;text-align: left;background-color: #f0f8ff;}#sk-container-id-1 div.sk-toggleable__content pre {margin: 0.2em;color: black;border-radius: 0.25em;background-color: #f0f8ff;}#sk-container-id-1 input.sk-toggleable__control:checked~div.sk-toggleable__content {max-height: 200px;max-width: 100%;overflow: auto;}#sk-container-id-1 input.sk-toggleable__control:checked~label.sk-toggleable__label-arrow:before {content: \"▾\";}#sk-container-id-1 div.sk-estimator input.sk-toggleable__control:checked~label.sk-toggleable__label {background-color: #d4ebff;}#sk-container-id-1 div.sk-label input.sk-toggleable__control:checked~label.sk-toggleable__label {background-color: #d4ebff;}#sk-container-id-1 input.sk-hidden--visually {border: 0;clip: rect(1px 1px 1px 1px);clip: rect(1px, 1px, 1px, 1px);height: 1px;margin: -1px;overflow: hidden;padding: 0;position: absolute;width: 1px;}#sk-container-id-1 div.sk-estimator {font-family: monospace;background-color: #f0f8ff;border: 1px dotted black;border-radius: 0.25em;box-sizing: border-box;margin-bottom: 0.5em;}#sk-container-id-1 div.sk-estimator:hover {background-color: #d4ebff;}#sk-container-id-1 div.sk-parallel-item::after {content: \"\";width: 100%;border-bottom: 1px solid gray;flex-grow: 1;}#sk-container-id-1 div.sk-label:hover label.sk-toggleable__label {background-color: #d4ebff;}#sk-container-id-1 div.sk-serial::before {content: \"\";position: absolute;border-left: 1px solid gray;box-sizing: border-box;top: 0;bottom: 0;left: 50%;z-index: 0;}#sk-container-id-1 div.sk-serial {display: flex;flex-direction: column;align-items: center;background-color: white;padding-right: 0.2em;padding-left: 0.2em;position: relative;}#sk-container-id-1 div.sk-item {position: relative;z-index: 1;}#sk-container-id-1 div.sk-parallel {display: flex;align-items: stretch;justify-content: center;background-color: white;position: relative;}#sk-container-id-1 div.sk-item::before, #sk-container-id-1 div.sk-parallel-item::before {content: \"\";position: absolute;border-left: 1px solid gray;box-sizing: border-box;top: 0;bottom: 0;left: 50%;z-index: -1;}#sk-container-id-1 div.sk-parallel-item {display: flex;flex-direction: column;z-index: 1;position: relative;background-color: white;}#sk-container-id-1 div.sk-parallel-item:first-child::after {align-self: flex-end;width: 50%;}#sk-container-id-1 div.sk-parallel-item:last-child::after {align-self: flex-start;width: 50%;}#sk-container-id-1 div.sk-parallel-item:only-child::after {width: 0;}#sk-container-id-1 div.sk-dashed-wrapped {border: 1px dashed gray;margin: 0 0.4em 0.5em 0.4em;box-sizing: border-box;padding-bottom: 0.4em;background-color: white;}#sk-container-id-1 div.sk-label label {font-family: monospace;font-weight: bold;display: inline-block;line-height: 1.2em;}#sk-container-id-1 div.sk-label-container {text-align: center;}#sk-container-id-1 div.sk-container {/* jupyter's `normalize.less` sets `[hidden] { display: none; }` but bootstrap.min.css set `[hidden] { display: none !important; }` so we also need the `!important` here to be able to override the default hidden behavior on the sphinx rendered scikit-learn.org. See: https://github.com/scikit-learn/scikit-learn/issues/21755 */display: inline-block !important;position: relative;}#sk-container-id-1 div.sk-text-repr-fallback {display: none;}</style><div id=\"sk-container-id-1\" class=\"sk-top-container\"><div class=\"sk-text-repr-fallback\"><pre>LogisticRegression()</pre><b>In a Jupyter environment, please rerun this cell to show the HTML representation or trust the notebook. <br />On GitHub, the HTML representation is unable to render, please try loading this page with nbviewer.org.</b></div><div class=\"sk-container\" hidden><div class=\"sk-item\"><div class=\"sk-estimator sk-toggleable\"><input class=\"sk-toggleable__control sk-hidden--visually\" id=\"sk-estimator-id-1\" type=\"checkbox\" checked><label for=\"sk-estimator-id-1\" class=\"sk-toggleable__label sk-toggleable__label-arrow\">LogisticRegression</label><div class=\"sk-toggleable__content\"><pre>LogisticRegression()</pre></div></div></div></div></div>"
      ],
      "text/plain": [
       "LogisticRegression()"
      ]
     },
     "execution_count": 15,
     "metadata": {},
     "output_type": "execute_result"
    }
   ],
   "source": [
    "pm_lr.fit(X=df[x_names].values, y=df[\"treatment_group_key\"].values)"
   ]
  },
  {
   "cell_type": "code",
   "execution_count": 16,
   "metadata": {},
   "outputs": [],
   "source": [
    "ps_lr = pm_lr.predict_proba(df[x_names].values)[:, 1]"
   ]
  },
  {
   "cell_type": "code",
   "execution_count": 17,
   "metadata": {},
   "outputs": [
    {
     "data": {
      "text/plain": [
       "array([[<Axes: title={'center': '0'}>]], dtype=object)"
      ]
     },
     "execution_count": 17,
     "metadata": {},
     "output_type": "execute_result"
    },
    {
     "data": {
      "image/png": "[encoded data removed]",
      "text/plain": [
       "<Figure size 640x480 with 1 Axes>"
      ]
     },
     "metadata": {},
     "output_type": "display_data"
    }
   ],
   "source": [
    "pd.DataFrame(ps_lr).hist(bins=100)"
   ]
  },
  {
   "cell_type": "markdown",
   "metadata": {},
   "source": [
    "## Logistic Regression (CausalML)"
   ]
  },
  {
   "cell_type": "code",
   "execution_count": 18,
   "metadata": {},
   "outputs": [],
   "source": [
    "pm_lrcml = LogisticRegressionPropensityModel(random_state=RANDOM_SEED)\n",
    "ps_lrcml = pm_lrcml.fit_predict(df[x_names].values, df[\"treatment_group_key\"].values)"
   ]
  },
  {
   "cell_type": "code",
   "execution_count": 19,
   "metadata": {},
   "outputs": [
    {
     "data": {
      "text/plain": [
       "array([[<Axes: title={'center': '0'}>]], dtype=object)"
      ]
     },
     "execution_count": 19,
     "metadata": {},
     "output_type": "execute_result"
    },
    {
     "data": {
      "image/png": "[encoded data removed]",
      "text/plain": [
       "<Figure size 640x480 with 1 Axes>"
      ]
     },
     "metadata": {},
     "output_type": "display_data"
    }
   ],
   "source": [
    "pd.DataFrame(ps_lrcml).hist(bins=100)"
   ]
  },
  {
   "cell_type": "markdown",
   "metadata": {},
   "source": [
    "## Elastic Net (CausalML)"
   ]
  },
  {
   "cell_type": "code",
   "execution_count": 20,
   "metadata": {},
   "outputs": [],
   "source": [
    "pm_en = ElasticNetPropensityModel(random_state=RANDOM_SEED)\n",
    "ps_en = pm_en.fit_predict(df[x_names].values, df[\"treatment_group_key\"].values)"
   ]
  },
  {
   "cell_type": "code",
   "execution_count": 21,
   "metadata": {},
   "outputs": [
    {
     "data": {
      "text/plain": [
       "array([[<Axes: title={'center': '0'}>]], dtype=object)"
      ]
     },
     "execution_count": 21,
     "metadata": {},
     "output_type": "execute_result"
    },
    {
     "data": {
      "image/png": "[encoded data removed]",
      "text/plain": [
       "<Figure size 640x480 with 1 Axes>"
      ]
     },
     "metadata": {},
     "output_type": "display_data"
    }
   ],
   "source": [
    "pd.DataFrame(ps_en).hist(bins=100) "
   ]
  },
  {
   "cell_type": "markdown",
   "metadata": {},
   "source": [
    "## Gradient Boosted Propensity Model"
   ]
  },
  {
   "cell_type": "code",
   "execution_count": 22,
   "metadata": {},
   "outputs": [],
   "source": [
    "pm_gbm = GradientBoostedPropensityModel(random_state=RANDOM_SEED)\n",
    "ps_gbm = pm_gbm.fit_predict(df[x_names].values, df[\"treatment_group_key\"].values)\n"
   ]
  },
  {
   "cell_type": "code",
   "execution_count": 23,
   "metadata": {},
   "outputs": [
    {
     "data": {
      "text/plain": [
       "array([[<Axes: title={'center': '0'}>]], dtype=object)"
      ]
     },
     "execution_count": 23,
     "metadata": {},
     "output_type": "execute_result"
    },
    {
     "data": {
      "image/png": "[encoded data removed]",
      "text/plain": [
       "<Figure size 640x480 with 1 Axes>"
      ]
     },
     "metadata": {},
     "output_type": "display_data"
    }
   ],
   "source": [
    "pd.DataFrame(ps_gbm).hist(bins=100)"
   ]
  },
  {
   "cell_type": "markdown",
   "metadata": {},
   "source": [
    "Gradient Boosted model above is the only one that has a non-normal histogram of propensity scores: a test-case for calibration."
   ]
  },
  {
   "cell_type": "markdown",
   "metadata": {},
   "source": [
    "# Looking at `compute_propensity_score`"
   ]
  },
  {
   "cell_type": "markdown",
   "metadata": {},
   "source": [
    "##  Calculate the uncalibrated propensity scores "
   ]
  },
  {
   "cell_type": "code",
   "execution_count": 24,
   "metadata": {},
   "outputs": [],
   "source": [
    "ps_cps_uc, psm_cps = compute_propensity_score(df[x_names].values, df[\"treatment_group_key\"].values, calibrate_p=False)"
   ]
  },
  {
   "cell_type": "code",
   "execution_count": 25,
   "metadata": {},
   "outputs": [
    {
     "data": {
      "text/plain": [
       "array([[<Axes: title={'center': '0'}>]], dtype=object)"
      ]
     },
     "execution_count": 25,
     "metadata": {},
     "output_type": "execute_result"
    },
    {
     "data": {
      "image/png": "[encoded data removed]",
      "text/plain": [
       "<Figure size 640x480 with 1 Axes>"
      ]
     },
     "metadata": {},
     "output_type": "display_data"
    }
   ],
   "source": [
    "pd.DataFrame(ps_cps_uc).hist(bins=100)"
   ]
  },
  {
   "cell_type": "markdown",
   "metadata": {},
   "source": [
    "Uncalibrated propensity score histogram (ElasticNet) is similar/equal to LogisticRegression propensity score "
   ]
  },
  {
   "cell_type": "markdown",
   "metadata": {},
   "source": [
    "# Compute the calibrated propensity scores using `compute_propensity_score`"
   ]
  },
  {
   "cell_type": "code",
   "execution_count": 26,
   "metadata": {},
   "outputs": [],
   "source": [
    "ps_cps_c, psm_cps = compute_propensity_score(df[x_names].values, df[\"treatment_group_key\"].values, calibrate_p=True)"
   ]
  },
  {
   "cell_type": "code",
   "execution_count": 27,
   "metadata": {},
   "outputs": [
    {
     "data": {
      "text/plain": [
       "array([[<Axes: title={'center': '0'}>]], dtype=object)"
      ]
     },
     "execution_count": 27,
     "metadata": {},
     "output_type": "execute_result"
    },
    {
     "data": {
      "image/png": "[encoded data removed]",
      "text/plain": [
       "<Figure size 640x480 with 1 Axes>"
      ]
     },
     "metadata": {},
     "output_type": "display_data"
    }
   ],
   "source": [
    "pd.DataFrame(ps_cps_c).hist(bins=100)"
   ]
  },
  {
   "cell_type": "markdown",
   "metadata": {},
   "source": [
    "This looks a bit odd: skewed and cut-off."
   ]
  },
  {
   "cell_type": "code",
   "execution_count": 28,
   "metadata": {},
   "outputs": [],
   "source": [
    "## Create calibration diagram?"
   ]
  },
  {
   "cell_type": "markdown",
   "metadata": {},
   "source": [
    "# Looking at `calibrate` function"
   ]
  },
  {
   "cell_type": "markdown",
   "metadata": {},
   "source": [
    "## Copy the `calibrate` function and keep LogisticGAM"
   ]
  },
  {
   "cell_type": "code",
   "execution_count": 29,
   "metadata": {},
   "outputs": [],
   "source": [
    "def calibrate_pg(ps, treatment):\n",
    "    \"\"\"Calibrate propensity scores with logistic GAM.\n",
    "\n",
    "    Ref: https://pygam.readthedocs.io/en/latest/api/logisticgam.html\n",
    "\n",
    "    Args:\n",
    "        ps (numpy.array): a propensity score vector\n",
    "        treatment (numpy.array): a binary treatment vector (0: control, 1: treated)\n",
    "\n",
    "    Returns:\n",
    "        (numpy.array): a calibrated propensity score vector\n",
    "    \"\"\"\n",
    "\n",
    "    gam = LogisticGAM(s(0)).fit(ps, treatment)\n",
    "\n",
    "    return gam.predict_proba(ps)"
   ]
  },
  {
   "cell_type": "markdown",
   "metadata": {},
   "source": [
    "### Calibrate the Logistic Regression model scores"
   ]
  },
  {
   "cell_type": "code",
   "execution_count": 30,
   "metadata": {},
   "outputs": [],
   "source": [
    "ps_cal_lr_pg = calibrate_pg(ps_lr, df[\"treatment_group_key\"].values)"
   ]
  },
  {
   "cell_type": "code",
   "execution_count": 31,
   "metadata": {},
   "outputs": [
    {
     "data": {
      "text/plain": [
       "array([[<Axes: title={'center': '0'}>]], dtype=object)"
      ]
     },
     "execution_count": 31,
     "metadata": {},
     "output_type": "execute_result"
    },
    {
     "data": {
      "image/png": "[encoded data removed]",
      "text/plain": [
       "<Figure size 640x480 with 1 Axes>"
      ]
     },
     "metadata": {},
     "output_type": "display_data"
    }
   ],
   "source": [
    "pd.DataFrame(ps_cal_lr_pg).hist(bins=100)"
   ]
  },
  {
   "cell_type": "markdown",
   "metadata": {},
   "source": [
    "From the above, we see that running `calibrate_pg()` on the logistic regression scores produces a calibrated propensity score histogram that matches the histogram from `compute_propensity_score(..., calibrate_p=True)` above."
   ]
  },
  {
   "cell_type": "code",
   "execution_count": null,
   "metadata": {},
   "outputs": [],
   "source": []
  },
  {
   "cell_type": "markdown",
   "metadata": {},
   "source": [
    "### Calibrate the Gradient Boosted Propensity model scores"
   ]
  },
  {
   "cell_type": "code",
   "execution_count": 36,
   "metadata": {},
   "outputs": [
    {
     "data": {
      "text/plain": [
       "array([[<Axes: title={'center': '0'}>]], dtype=object)"
      ]
     },
     "execution_count": 36,
     "metadata": {},
     "output_type": "execute_result"
    },
    {
     "data": {
      "image/png": "[encoded data removed]",
      "text/plain": [
       "<Figure size 640x480 with 1 Axes>"
      ]
     },
     "metadata": {},
     "output_type": "display_data"
    }
   ],
   "source": [
    "pd.DataFrame(ps_gbm).hist(bins=100)"
   ]
  },
  {
   "cell_type": "code",
   "execution_count": 37,
   "metadata": {},
   "outputs": [],
   "source": [
    "ps_cal_gbm_pg = calibrate_pg(ps_gbm, df[\"treatment_group_key\"].values)"
   ]
  },
  {
   "cell_type": "code",
   "execution_count": 38,
   "metadata": {},
   "outputs": [
    {
     "data": {
      "text/plain": [
       "array([[<Axes: title={'center': '0'}>]], dtype=object)"
      ]
     },
     "execution_count": 38,
     "metadata": {},
     "output_type": "execute_result"
    },
    {
     "data": {
      "image/png": "[encoded data removed]",
      "text/plain": [
       "<Figure size 640x480 with 1 Axes>"
      ]
     },
     "metadata": {},
     "output_type": "display_data"
    }
   ],
   "source": [
    "pd.DataFrame(ps_cal_gbm_pg).hist(bins=100)"
   ]
  },
  {
   "cell_type": "markdown",
   "metadata": {},
   "source": [
    "From the above, we see that running `calibrate_pg()` on the gradient boosted model scores produces a calibrated propensity score histogram that is essentially binomial."
   ]
  },
  {
   "cell_type": "code",
   "execution_count": null,
   "metadata": {},
   "outputs": [],
   "source": []
  },
  {
   "cell_type": "markdown",
   "metadata": {},
   "source": [
    "# Modify the Calibration function to use LogisticRegression"
   ]
  },
  {
   "cell_type": "code",
   "execution_count": 41,
   "metadata": {},
   "outputs": [],
   "source": [
    "def calibrate_lr(ps, treatment):\n",
    "    \"\"\"Calibrate propensity scores with LogisticRegression.\n",
    "\n",
    "    Args:\n",
    "        ps (numpy.array): a propensity score vector\n",
    "        treatment (numpy.array): a binary treatment vector (0: control, 1: treated)\n",
    "\n",
    "    Returns:\n",
    "        (numpy.array): a calibrated propensity score vector\n",
    "    \"\"\"\n",
    "\n",
    "    lrm = LogisticRegression().fit(ps, treatment)\n",
    "\n",
    "    return lrm.predict_proba(ps)"
   ]
  },
  {
   "cell_type": "markdown",
   "metadata": {},
   "source": [
    "## Calibrate the Logistic Regression scores with `calibrate_lr`"
   ]
  },
  {
   "cell_type": "code",
   "execution_count": 44,
   "metadata": {},
   "outputs": [
    {
     "data": {
      "text/plain": [
       "array([[<Axes: title={'center': '0'}>]], dtype=object)"
      ]
     },
     "execution_count": 44,
     "metadata": {},
     "output_type": "execute_result"
    },
    {
     "data": {
      "image/png": "[encoded data removed]",
      "text/plain": [
       "<Figure size 640x480 with 1 Axes>"
      ]
     },
     "metadata": {},
     "output_type": "display_data"
    }
   ],
   "source": [
    "pd.DataFrame(ps_lr).hist(bins=100)"
   ]
  },
  {
   "cell_type": "code",
   "execution_count": 46,
   "metadata": {},
   "outputs": [],
   "source": [
    "ps_cal_lr_lr = calibrate_lr(ps_lr.reshape(-1,1), df[\"treatment_group_key\"].values)[:, 1]"
   ]
  },
  {
   "cell_type": "code",
   "execution_count": 48,
   "metadata": {},
   "outputs": [
    {
     "data": {
      "text/plain": [
       "array([[<Axes: title={'center': '0'}>]], dtype=object)"
      ]
     },
     "execution_count": 48,
     "metadata": {},
     "output_type": "execute_result"
    },
    {
     "data": {
      "image/png": "[encoded data removed]",
      "text/plain": [
       "<Figure size 640x480 with 1 Axes>"
      ]
     },
     "metadata": {},
     "output_type": "display_data"
    }
   ],
   "source": [
    "pd.DataFrame(ps_cal_lr_lr).hist(bins=100)"
   ]
  },
  {
   "cell_type": "code",
   "execution_count": null,
   "metadata": {},
   "outputs": [],
   "source": []
  },
  {
   "cell_type": "markdown",
   "metadata": {},
   "source": [
    "## Calibrate the GMB scores with `calibrate_lr`"
   ]
  },
  {
   "cell_type": "code",
   "execution_count": 49,
   "metadata": {},
   "outputs": [
    {
     "data": {
      "text/plain": [
       "array([[<Axes: title={'center': '0'}>]], dtype=object)"
      ]
     },
     "execution_count": 49,
     "metadata": {},
     "output_type": "execute_result"
    },
    {
     "data": {
      "image/png": "[encoded data removed]",
      "text/plain": [
       "<Figure size 640x480 with 1 Axes>"
      ]
     },
     "metadata": {},
     "output_type": "display_data"
    }
   ],
   "source": [
    "pd.DataFrame(ps_gbm).hist(bins=100)"
   ]
  },
  {
   "cell_type": "code",
   "execution_count": 51,
   "metadata": {},
   "outputs": [],
   "source": [
    "ps_cal_gbm_lr = calibrate_lr(ps_gbm.reshape(-1,1), df[\"treatment_group_key\"].values)[:, 1]"
   ]
  },
  {
   "cell_type": "code",
   "execution_count": 52,
   "metadata": {},
   "outputs": [
    {
     "data": {
      "text/plain": [
       "array([[<Axes: title={'center': '0'}>]], dtype=object)"
      ]
     },
     "execution_count": 52,
     "metadata": {},
     "output_type": "execute_result"
    },
    {
     "data": {
      "image/png": "[encoded data removed]",
      "text/plain": [
       "<Figure size 640x480 with 1 Axes>"
      ]
     },
     "metadata": {},
     "output_type": "display_data"
    }
   ],
   "source": [
    "pd.DataFrame(ps_cal_gbm_lr).hist(bins=100)"
   ]
  },
  {
   "cell_type": "code",
   "execution_count": null,
   "metadata": {},
   "outputs": [],
   "source": []
  },
  {
   "cell_type": "markdown",
   "metadata": {},
   "source": [
    "# Log Loss"
   ]
  },
  {
   "cell_type": "code",
   "execution_count": 54,
   "metadata": {},
   "outputs": [],
   "source": [
    "from sklearn.metrics import log_loss"
   ]
  },
  {
   "cell_type": "code",
   "execution_count": 56,
   "metadata": {},
   "outputs": [
    {
     "data": {
      "text/plain": [
       "0.5596360892011015"
      ]
     },
     "execution_count": 56,
     "metadata": {},
     "output_type": "execute_result"
    }
   ],
   "source": [
    "# ps_cal_pg = calibrate_pg(df[\"propensity_score\"].values, df[\"treatment_group_key\"].values)\n",
    "\n",
    "log_loss(df[\"treatment_group_key\"].values, ps_lr)\n"
   ]
  },
  {
   "cell_type": "code",
   "execution_count": 59,
   "metadata": {},
   "outputs": [
    {
     "data": {
      "text/plain": [
       "0.029830063769922963"
      ]
     },
     "execution_count": 59,
     "metadata": {},
     "output_type": "execute_result"
    }
   ],
   "source": [
    "log_loss(df[\"treatment_group_key\"].values, ps_cal_gbm_lr)\n"
   ]
  },
  {
   "cell_type": "code",
   "execution_count": 59,
   "metadata": {},
   "outputs": [
    {
     "data": {
      "text/plain": [
       "0.029830063769922963"
      ]
     },
     "execution_count": 59,
     "metadata": {},
     "output_type": "execute_result"
    }
   ],
   "source": [
    "log_loss(df[\"treatment_group_key\"].values, ps_cal_gbm_lr)\n"
   ]
  },
  {
   "cell_type": "code",
   "execution_count": 62,
   "metadata": {},
   "outputs": [
    {
     "data": {
      "text/plain": [
       "0.0016574101535184985"
      ]
     },
     "execution_count": 62,
     "metadata": {},
     "output_type": "execute_result"
    }
   ],
   "source": [
    "log_loss(df[\"treatment_group_key\"].values, ps_cal_gbm_pg)\n"
   ]
  },
  {
   "cell_type": "code",
   "execution_count": null,
   "metadata": {},
   "outputs": [],
   "source": []
  },
  {
   "cell_type": "code",
   "execution_count": null,
   "metadata": {},
   "outputs": [],
   "source": []
  },
  {
   "cell_type": "markdown",
   "metadata": {},
   "source": [
    "# Modify the Calibration function to use GBM"
   ]
  },
  {
   "cell_type": "code",
   "execution_count": 66,
   "metadata": {},
   "outputs": [],
   "source": [
    "def calibrate_gbm(ps, treatment):\n",
    "    \"\"\"Calibrate propensity scores with GBM.\n",
    "\n",
    "    Args:\n",
    "        ps (numpy.array): a propensity score vector\n",
    "        treatment (numpy.array): a binary treatment vector (0: control, 1: treated)\n",
    "\n",
    "    Returns:\n",
    "        (numpy.array): a calibrated propensity score vector\n",
    "    \"\"\"\n",
    "    pm_gbm = GradientBoostedPropensityModel(random_state=RANDOM_SEED)\n",
    "    ps_gbm = pm_gbm.fit_predict(ps, treatment)\n",
    "\n",
    "    return ps_gbm"
   ]
  },
  {
   "cell_type": "markdown",
   "metadata": {},
   "source": [
    "## Calibrate the Logistic Regression scores with `calibrate_gbm`"
   ]
  },
  {
   "cell_type": "code",
   "execution_count": 72,
   "metadata": {},
   "outputs": [
    {
     "data": {
      "text/plain": [
       "array([[<Axes: title={'center': '0'}>]], dtype=object)"
      ]
     },
     "execution_count": 72,
     "metadata": {},
     "output_type": "execute_result"
    },
    {
     "data": {
      "image/png": "[encoded data removed]",
      "text/plain": [
       "<Figure size 640x480 with 1 Axes>"
      ]
     },
     "metadata": {},
     "output_type": "display_data"
    }
   ],
   "source": [
    "pd.DataFrame(ps_lr).hist(bins=100)"
   ]
  },
  {
   "cell_type": "code",
   "execution_count": 73,
   "metadata": {},
   "outputs": [
    {
     "data": {
      "text/plain": [
       "array([0.71887504, 0.74028955, 0.73688147, ..., 0.80023764, 0.80116772,\n",
       "       0.76505901])"
      ]
     },
     "execution_count": 73,
     "metadata": {},
     "output_type": "execute_result"
    }
   ],
   "source": [
    "ps_lr"
   ]
  },
  {
   "cell_type": "code",
   "execution_count": 74,
   "metadata": {},
   "outputs": [],
   "source": [
    "ps_cal_lr_gbm = calibrate_gbm(ps_lr.reshape(-1,1), df[\"treatment_group_key\"].values)"
   ]
  },
  {
   "cell_type": "code",
   "execution_count": 75,
   "metadata": {},
   "outputs": [
    {
     "data": {
      "text/plain": [
       "array([[<Axes: title={'center': '0'}>]], dtype=object)"
      ]
     },
     "execution_count": 75,
     "metadata": {},
     "output_type": "execute_result"
    },
    {
     "data": {
      "image/png": "[encoded data removed]",
      "text/plain": [
       "<Figure size 640x480 with 1 Axes>"
      ]
     },
     "metadata": {},
     "output_type": "display_data"
    }
   ],
   "source": [
    "pd.DataFrame(ps_cal_lr_gbm).hist(bins=100)"
   ]
  },
  {
   "cell_type": "code",
   "execution_count": null,
   "metadata": {},
   "outputs": [],
   "source": []
  },
  {
   "cell_type": "markdown",
   "metadata": {},
   "source": [
    "## Calibrate the GMB scores with `calibrate_gbm`"
   ]
  },
  {
   "cell_type": "code",
   "execution_count": 76,
   "metadata": {},
   "outputs": [
    {
     "data": {
      "text/plain": [
       "array([[<Axes: title={'center': '0'}>]], dtype=object)"
      ]
     },
     "execution_count": 76,
     "metadata": {},
     "output_type": "execute_result"
    },
    {
     "data": {
      "image/png": "[encoded data removed]",
      "text/plain": [
       "<Figure size 640x480 with 1 Axes>"
      ]
     },
     "metadata": {},
     "output_type": "display_data"
    }
   ],
   "source": [
    "pd.DataFrame(ps_gbm).hist(bins=100)"
   ]
  },
  {
   "cell_type": "code",
   "execution_count": 77,
   "metadata": {},
   "outputs": [],
   "source": [
    "ps_cal_gbm_gbm = calibrate_gbm(ps_gbm.reshape(-1,1), df[\"treatment_group_key\"].values)"
   ]
  },
  {
   "cell_type": "code",
   "execution_count": 78,
   "metadata": {},
   "outputs": [
    {
     "data": {
      "text/plain": [
       "array([[<Axes: title={'center': '0'}>]], dtype=object)"
      ]
     },
     "execution_count": 78,
     "metadata": {},
     "output_type": "execute_result"
    },
    {
     "data": {
      "image/png": "[encoded data removed]",
      "text/plain": [
       "<Figure size 640x480 with 1 Axes>"
      ]
     },
     "metadata": {},
     "output_type": "display_data"
    }
   ],
   "source": [
    "pd.DataFrame(ps_cal_gbm_gbm).hist(bins=100)"
   ]
  },
  {
   "cell_type": "code",
   "execution_count": null,
   "metadata": {},
   "outputs": [],
   "source": []
  },
  {
   "cell_type": "markdown",
   "metadata": {},
   "source": [
    "# Log Loss"
   ]
  },
  {
   "cell_type": "code",
   "execution_count": 79,
   "metadata": {},
   "outputs": [],
   "source": [
    "from sklearn.metrics import log_loss"
   ]
  },
  {
   "cell_type": "markdown",
   "metadata": {},
   "source": [
    "## Compare log loss on logreg scores"
   ]
  },
  {
   "cell_type": "code",
   "execution_count": 98,
   "metadata": {},
   "outputs": [
    {
     "data": {
      "text/plain": [
       "0.5596360892011015"
      ]
     },
     "execution_count": 98,
     "metadata": {},
     "output_type": "execute_result"
    }
   ],
   "source": [
    "log_loss(df[\"treatment_group_key\"].values, ps_lr)"
   ]
  },
  {
   "cell_type": "code",
   "execution_count": 99,
   "metadata": {},
   "outputs": [
    {
     "data": {
      "text/plain": [
       "0.5589966487977526"
      ]
     },
     "execution_count": 99,
     "metadata": {},
     "output_type": "execute_result"
    }
   ],
   "source": [
    "log_loss(df[\"treatment_group_key\"].values, ps_cal_lr_pg)\n"
   ]
  },
  {
   "cell_type": "code",
   "execution_count": 100,
   "metadata": {},
   "outputs": [
    {
     "data": {
      "text/plain": [
       "0.5605614027408914"
      ]
     },
     "execution_count": 100,
     "metadata": {},
     "output_type": "execute_result"
    }
   ],
   "source": [
    "log_loss(df[\"treatment_group_key\"].values, ps_cal_lr_lr)\n"
   ]
  },
  {
   "cell_type": "code",
   "execution_count": 101,
   "metadata": {},
   "outputs": [
    {
     "data": {
      "text/plain": [
       "0.5268518310714831"
      ]
     },
     "execution_count": 101,
     "metadata": {},
     "output_type": "execute_result"
    }
   ],
   "source": [
    "log_loss(df[\"treatment_group_key\"].values, ps_cal_lr_gbm)\n"
   ]
  },
  {
   "cell_type": "markdown",
   "metadata": {},
   "source": [
    "## Compare log loss on gbm scores"
   ]
  },
  {
   "cell_type": "code",
   "execution_count": 103,
   "metadata": {},
   "outputs": [
    {
     "data": {
      "text/plain": [
       "0.21128888734327234"
      ]
     },
     "execution_count": 103,
     "metadata": {},
     "output_type": "execute_result"
    }
   ],
   "source": [
    "log_loss(df[\"treatment_group_key\"].values, ps_gbm)"
   ]
  },
  {
   "cell_type": "code",
   "execution_count": 104,
   "metadata": {},
   "outputs": [
    {
     "data": {
      "text/plain": [
       "0.0016574101535184985"
      ]
     },
     "execution_count": 104,
     "metadata": {},
     "output_type": "execute_result"
    }
   ],
   "source": [
    "log_loss(df[\"treatment_group_key\"].values, ps_cal_gbm_pg)\n"
   ]
  },
  {
   "cell_type": "code",
   "execution_count": 105,
   "metadata": {},
   "outputs": [
    {
     "data": {
      "text/plain": [
       "0.029830063769922963"
      ]
     },
     "execution_count": 105,
     "metadata": {},
     "output_type": "execute_result"
    }
   ],
   "source": [
    "log_loss(df[\"treatment_group_key\"].values, ps_cal_gbm_lr)\n"
   ]
  },
  {
   "cell_type": "code",
   "execution_count": 106,
   "metadata": {},
   "outputs": [
    {
     "data": {
      "text/plain": [
       "0.0029015217704915094"
      ]
     },
     "execution_count": 106,
     "metadata": {},
     "output_type": "execute_result"
    }
   ],
   "source": [
    "log_loss(df[\"treatment_group_key\"].values, ps_cal_gbm_gbm)\n"
   ]
  },
  {
   "cell_type": "code",
   "execution_count": null,
   "metadata": {},
   "outputs": [],
   "source": []
  },
  {
   "cell_type": "code",
   "execution_count": null,
   "metadata": {},
   "outputs": [],
   "source": []
  },
  {
   "cell_type": "markdown",
   "metadata": {},
   "source": [
    "# Modify the Calibration function to use Isotonic Regression"
   ]
  },
  {
   "cell_type": "code",
   "execution_count": 107,
   "metadata": {},
   "outputs": [],
   "source": [
    "from sklearn.isotonic import IsotonicRegression"
   ]
  },
  {
   "cell_type": "code",
   "execution_count": 112,
   "metadata": {},
   "outputs": [],
   "source": [
    "def calibrate_iso(ps, treatment):\n",
    "    \"\"\"Calibrate propensity scores with IsotonicRegression.\n",
    "\n",
    "    Args:\n",
    "        ps (numpy.array): a propensity score vector\n",
    "        treatment (numpy.array): a binary treatment vector (0: control, 1: treated)\n",
    "\n",
    "    Returns:\n",
    "        (numpy.array): a calibrated propensity score vector\n",
    "    \"\"\"\n",
    "    pm_ir = IsotonicRegression(out_of_bounds=\"clip\")\n",
    "    ps_ir = pm_ir.fit_transform(ps, treatment)\n",
    "    #ps_ir = pm_ir.predict(ps)\n",
    "\n",
    "    return ps_ir"
   ]
  },
  {
   "cell_type": "markdown",
   "metadata": {},
   "source": [
    "## Calibrate the Logistic Regression scores with `calibrate_iso`"
   ]
  },
  {
   "cell_type": "code",
   "execution_count": 113,
   "metadata": {},
   "outputs": [
    {
     "data": {
      "text/plain": [
       "array([[<Axes: title={'center': '0'}>]], dtype=object)"
      ]
     },
     "execution_count": 113,
     "metadata": {},
     "output_type": "execute_result"
    },
    {
     "data": {
      "image/png": "[encoded data removed]",
      "text/plain": [
       "<Figure size 640x480 with 1 Axes>"
      ]
     },
     "metadata": {},
     "output_type": "display_data"
    }
   ],
   "source": [
    "pd.DataFrame(ps_lr).hist(bins=100)"
   ]
  },
  {
   "cell_type": "code",
   "execution_count": 114,
   "metadata": {},
   "outputs": [],
   "source": [
    "ps_cal_lr_iso = calibrate_iso(ps_lr.reshape(-1,1), df[\"treatment_group_key\"].values)"
   ]
  },
  {
   "cell_type": "code",
   "execution_count": 115,
   "metadata": {},
   "outputs": [
    {
     "data": {
      "text/plain": [
       "array([[<Axes: title={'center': '0'}>]], dtype=object)"
      ]
     },
     "execution_count": 115,
     "metadata": {},
     "output_type": "execute_result"
    },
    {
     "data": {
      "image/png": "[encoded data removed]",
      "text/plain": [
       "<Figure size 640x480 with 1 Axes>"
      ]
     },
     "metadata": {},
     "output_type": "display_data"
    }
   ],
   "source": [
    "pd.DataFrame(ps_cal_lr_iso).hist(bins=100)"
   ]
  },
  {
   "cell_type": "code",
   "execution_count": null,
   "metadata": {},
   "outputs": [],
   "source": []
  },
  {
   "cell_type": "markdown",
   "metadata": {},
   "source": [
    "## Calibrate the GMB scores with `calibrate_iso`"
   ]
  },
  {
   "cell_type": "code",
   "execution_count": 116,
   "metadata": {},
   "outputs": [
    {
     "data": {
      "text/plain": [
       "array([[<Axes: title={'center': '0'}>]], dtype=object)"
      ]
     },
     "execution_count": 116,
     "metadata": {},
     "output_type": "execute_result"
    },
    {
     "data": {
      "image/png": "[encoded data removed]",
      "text/plain": [
       "<Figure size 640x480 with 1 Axes>"
      ]
     },
     "metadata": {},
     "output_type": "display_data"
    }
   ],
   "source": [
    "pd.DataFrame(ps_gbm).hist(bins=100)"
   ]
  },
  {
   "cell_type": "code",
   "execution_count": 117,
   "metadata": {},
   "outputs": [],
   "source": [
    "ps_cal_gbm_iso = calibrate_iso(ps_gbm.reshape(-1,1), df[\"treatment_group_key\"].values)"
   ]
  },
  {
   "cell_type": "code",
   "execution_count": 118,
   "metadata": {},
   "outputs": [
    {
     "data": {
      "text/plain": [
       "array([[<Axes: title={'center': '0'}>]], dtype=object)"
      ]
     },
     "execution_count": 118,
     "metadata": {},
     "output_type": "execute_result"
    },
    {
     "data": {
      "image/png": "[encoded data removed]",
      "text/plain": [
       "<Figure size 640x480 with 1 Axes>"
      ]
     },
     "metadata": {},
     "output_type": "display_data"
    }
   ],
   "source": [
    "pd.DataFrame(ps_cal_gbm_iso).hist(bins=100)"
   ]
  },
  {
   "cell_type": "code",
   "execution_count": null,
   "metadata": {},
   "outputs": [],
   "source": []
  },
  {
   "cell_type": "code",
   "execution_count": null,
   "metadata": {},
   "outputs": [],
   "source": []
  },
  {
   "cell_type": "code",
   "execution_count": null,
   "metadata": {},
   "outputs": [],
   "source": []
  },
  {
   "cell_type": "markdown",
   "metadata": {},
   "source": [
    "## Compare loss metrics on logreg scores"
   ]
  },
  {
   "cell_type": "code",
   "execution_count": 133,
   "metadata": {},
   "outputs": [],
   "source": [
    "from sklearn.metrics import brier_score_loss"
   ]
  },
  {
   "cell_type": "code",
   "execution_count": 137,
   "metadata": {},
   "outputs": [
    {
     "data": {
      "text/plain": [
       "0.5596360892011015"
      ]
     },
     "execution_count": 137,
     "metadata": {},
     "output_type": "execute_result"
    }
   ],
   "source": [
    "log_loss(df[\"treatment_group_key\"].values, ps_lr)"
   ]
  },
  {
   "cell_type": "code",
   "execution_count": 136,
   "metadata": {},
   "outputs": [
    {
     "data": {
      "text/plain": [
       "0.1865121616680246"
      ]
     },
     "execution_count": 136,
     "metadata": {},
     "output_type": "execute_result"
    }
   ],
   "source": [
    "brier_score_loss(df[\"treatment_group_key\"].values, ps_lr)"
   ]
  },
  {
   "cell_type": "code",
   "execution_count": 128,
   "metadata": {},
   "outputs": [
    {
     "data": {
      "text/plain": [
       "0.5589966487977526"
      ]
     },
     "execution_count": 128,
     "metadata": {},
     "output_type": "execute_result"
    }
   ],
   "source": [
    "log_loss(df[\"treatment_group_key\"].values, ps_cal_lr_pg)\n"
   ]
  },
  {
   "cell_type": "code",
   "execution_count": 138,
   "metadata": {},
   "outputs": [
    {
     "data": {
      "text/plain": [
       "0.18630534324551137"
      ]
     },
     "execution_count": 138,
     "metadata": {},
     "output_type": "execute_result"
    }
   ],
   "source": [
    "brier_score_loss(df[\"treatment_group_key\"].values, ps_cal_lr_pg)"
   ]
  },
  {
   "cell_type": "code",
   "execution_count": 129,
   "metadata": {},
   "outputs": [
    {
     "data": {
      "text/plain": [
       "0.5605614027408914"
      ]
     },
     "execution_count": 129,
     "metadata": {},
     "output_type": "execute_result"
    }
   ],
   "source": [
    "log_loss(df[\"treatment_group_key\"].values, ps_cal_lr_lr)\n"
   ]
  },
  {
   "cell_type": "code",
   "execution_count": 139,
   "metadata": {},
   "outputs": [
    {
     "data": {
      "text/plain": [
       "0.18683847239810675"
      ]
     },
     "execution_count": 139,
     "metadata": {},
     "output_type": "execute_result"
    }
   ],
   "source": [
    "brier_score_loss(df[\"treatment_group_key\"].values, ps_cal_lr_lr)"
   ]
  },
  {
   "cell_type": "code",
   "execution_count": 130,
   "metadata": {},
   "outputs": [
    {
     "data": {
      "text/plain": [
       "0.5268518310714831"
      ]
     },
     "execution_count": 130,
     "metadata": {},
     "output_type": "execute_result"
    }
   ],
   "source": [
    "log_loss(df[\"treatment_group_key\"].values, ps_cal_lr_gbm)\n"
   ]
  },
  {
   "cell_type": "code",
   "execution_count": 140,
   "metadata": {},
   "outputs": [
    {
     "data": {
      "text/plain": [
       "0.1746449903454354"
      ]
     },
     "execution_count": 140,
     "metadata": {},
     "output_type": "execute_result"
    }
   ],
   "source": [
    "brier_score_loss(df[\"treatment_group_key\"].values, ps_cal_lr_gbm)"
   ]
  },
  {
   "cell_type": "code",
   "execution_count": 131,
   "metadata": {},
   "outputs": [
    {
     "data": {
      "text/plain": [
       "0.557280662413523"
      ]
     },
     "execution_count": 131,
     "metadata": {},
     "output_type": "execute_result"
    }
   ],
   "source": [
    "log_loss(df[\"treatment_group_key\"].values, ps_cal_lr_iso)\n"
   ]
  },
  {
   "cell_type": "code",
   "execution_count": 141,
   "metadata": {},
   "outputs": [
    {
     "data": {
      "text/plain": [
       "0.18575981989277546"
      ]
     },
     "execution_count": 141,
     "metadata": {},
     "output_type": "execute_result"
    }
   ],
   "source": [
    "brier_score_loss(df[\"treatment_group_key\"].values, ps_cal_lr_iso)"
   ]
  },
  {
   "cell_type": "markdown",
   "metadata": {},
   "source": [
    "## Compare log loss on gbm scores"
   ]
  },
  {
   "cell_type": "code",
   "execution_count": 142,
   "metadata": {},
   "outputs": [
    {
     "data": {
      "text/plain": [
       "0.21128888734327234"
      ]
     },
     "execution_count": 142,
     "metadata": {},
     "output_type": "execute_result"
    }
   ],
   "source": [
    "log_loss(df[\"treatment_group_key\"].values, ps_gbm)"
   ]
  },
  {
   "cell_type": "code",
   "execution_count": 143,
   "metadata": {},
   "outputs": [
    {
     "data": {
      "text/plain": [
       "0.04755848801420284"
      ]
     },
     "execution_count": 143,
     "metadata": {},
     "output_type": "execute_result"
    }
   ],
   "source": [
    "brier_score_loss(df[\"treatment_group_key\"].values, ps_gbm)"
   ]
  },
  {
   "cell_type": "code",
   "execution_count": 122,
   "metadata": {},
   "outputs": [
    {
     "data": {
      "text/plain": [
       "0.0016574101535184985"
      ]
     },
     "execution_count": 122,
     "metadata": {},
     "output_type": "execute_result"
    }
   ],
   "source": [
    "log_loss(df[\"treatment_group_key\"].values, ps_cal_gbm_pg)\n"
   ]
  },
  {
   "cell_type": "code",
   "execution_count": 144,
   "metadata": {},
   "outputs": [
    {
     "data": {
      "text/plain": [
       "0.0003984392619240189"
      ]
     },
     "execution_count": 144,
     "metadata": {},
     "output_type": "execute_result"
    }
   ],
   "source": [
    "brier_score_loss(df[\"treatment_group_key\"].values, ps_cal_gbm_pg)"
   ]
  },
  {
   "cell_type": "code",
   "execution_count": 145,
   "metadata": {},
   "outputs": [
    {
     "data": {
      "text/plain": [
       "0.029830063769922963"
      ]
     },
     "execution_count": 145,
     "metadata": {},
     "output_type": "execute_result"
    }
   ],
   "source": [
    "log_loss(df[\"treatment_group_key\"].values, ps_cal_gbm_lr)\n"
   ]
  },
  {
   "cell_type": "code",
   "execution_count": 146,
   "metadata": {},
   "outputs": [
    {
     "data": {
      "text/plain": [
       "0.0041276109719922795"
      ]
     },
     "execution_count": 146,
     "metadata": {},
     "output_type": "execute_result"
    }
   ],
   "source": [
    "brier_score_loss(df[\"treatment_group_key\"].values, ps_cal_gbm_lr)"
   ]
  },
  {
   "cell_type": "code",
   "execution_count": 124,
   "metadata": {},
   "outputs": [
    {
     "data": {
      "text/plain": [
       "0.0029015217704915094"
      ]
     },
     "execution_count": 124,
     "metadata": {},
     "output_type": "execute_result"
    }
   ],
   "source": [
    "log_loss(df[\"treatment_group_key\"].values, ps_cal_gbm_gbm)\n"
   ]
  },
  {
   "cell_type": "code",
   "execution_count": 147,
   "metadata": {},
   "outputs": [
    {
     "data": {
      "text/plain": [
       "0.0004732778315971428"
      ]
     },
     "execution_count": 147,
     "metadata": {},
     "output_type": "execute_result"
    }
   ],
   "source": [
    "brier_score_loss(df[\"treatment_group_key\"].values, ps_cal_gbm_gbm)"
   ]
  },
  {
   "cell_type": "code",
   "execution_count": 125,
   "metadata": {},
   "outputs": [
    {
     "data": {
      "text/plain": [
       "0.0008378681491815074"
      ]
     },
     "execution_count": 125,
     "metadata": {},
     "output_type": "execute_result"
    }
   ],
   "source": [
    "log_loss(df[\"treatment_group_key\"].values, ps_cal_gbm_iso)\n"
   ]
  },
  {
   "cell_type": "code",
   "execution_count": 148,
   "metadata": {},
   "outputs": [
    {
     "data": {
      "text/plain": [
       "0.00022727272727272928"
      ]
     },
     "execution_count": 148,
     "metadata": {},
     "output_type": "execute_result"
    }
   ],
   "source": [
    "brier_score_loss(df[\"treatment_group_key\"].values, ps_cal_gbm_iso)"
   ]
  },
  {
   "cell_type": "code",
   "execution_count": null,
   "metadata": {},
   "outputs": [],
   "source": []
  },
  {
   "cell_type": "code",
   "execution_count": null,
   "metadata": {},
   "outputs": [],
   "source": []
  },
  {
   "cell_type": "code",
   "execution_count": null,
   "metadata": {},
   "outputs": [],
   "source": []
  },
  {
   "cell_type": "code",
   "execution_count": null,
   "metadata": {},
   "outputs": [],
   "source": []
  },
  {
   "cell_type": "markdown",
   "metadata": {},
   "source": [
    "# Scratch"
   ]
  },
  {
   "cell_type": "code",
   "execution_count": null,
   "metadata": {},
   "outputs": [],
   "source": []
  },
  {
   "cell_type": "code",
   "execution_count": null,
   "metadata": {},
   "outputs": [],
   "source": []
  }
 ],
 "metadata": {
  "kernelspec": {
   "display_name": "Python 3 (ipykernel)",
   "language": "python",
   "name": "python3"
  },
  "language_info": {
   "codemirror_mode": {
    "name": "ipython",
    "version": 3
   },
   "file_extension": ".py",
   "mimetype": "text/x-python",
   "name": "python",
   "nbconvert_exporter": "python",
   "pygments_lexer": "ipython3",
   "version": "3.8.18"
  }
 },
 "nbformat": 4,
 "nbformat_minor": 4
}
